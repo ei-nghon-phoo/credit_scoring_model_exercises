{
 "cells": [
  {
   "cell_type": "code",
   "execution_count": 1,
   "id": "96c71ea9-324a-4490-bac8-8168046a5c6c",
   "metadata": {},
   "outputs": [],
   "source": [
    "import pandas as pd\n",
    "import numpy as np\n"
   ]
  },
  {
   "cell_type": "markdown",
   "id": "d3300119-b558-468a-b3e2-a67d26cd4839",
   "metadata": {},
   "source": [
    "## one row => one client ( not considering month and MFI)"
   ]
  },
  {
   "cell_type": "code",
   "execution_count": 2,
   "id": "2e6c132e-0b1f-45a5-b8f7-c760184c49e5",
   "metadata": {},
   "outputs": [
    {
     "name": "stdout",
     "output_type": "stream",
     "text": [
      "   client_id  location  active_status\n",
      "0          1     urban              1\n",
      "1          2     rural              0\n",
      "2          3     urban              1\n",
      "3          4  suburban              1\n",
      "4          5     rural              0\n"
     ]
    }
   ],
   "source": [
    "# Sample data\n",
    "data = {\n",
    "    'client_id': [1, 2, 3, 4, 5],\n",
    "    'location': ['urban', 'rural', 'urban', 'suburban', 'rural'],\n",
    "    'active_status': [1, 0, 1, 1, 0]\n",
    "}\n",
    "\n",
    "df = pd.DataFrame(data)\n",
    "print(df)\n"
   ]
  },
  {
   "cell_type": "code",
   "execution_count": 3,
   "id": "9f33e3ce-ffd7-48b4-b919-fd832e07d967",
   "metadata": {},
   "outputs": [],
   "source": [
    "location_weights = {\n",
    "    'urban': 3,\n",
    "    'suburban': 2,\n",
    "    'rural': 1\n",
    "}\n",
    "\n",
    "active_status_weights = {\n",
    "    1: 5,\n",
    "    0: 0\n",
    "}\n"
   ]
  },
  {
   "cell_type": "code",
   "execution_count": 4,
   "id": "74d6bd54-615d-47f2-b31d-375dd68f6cd8",
   "metadata": {},
   "outputs": [
    {
     "name": "stdout",
     "output_type": "stream",
     "text": [
      "   client_id  location  active_status  credit_score\n",
      "0          1     urban              1             8\n",
      "1          2     rural              0             1\n",
      "2          3     urban              1             8\n",
      "3          4  suburban              1             7\n",
      "4          5     rural              0             1\n"
     ]
    }
   ],
   "source": [
    "def calculate_credit_score(row):\n",
    "    location_score = location_weights.get(row['location'], 0)\n",
    "    status_score = active_status_weights.get(row['active_status'], 0)\n",
    "    return location_score + status_score\n",
    "\n",
    "df['credit_score'] = df.apply(calculate_credit_score, axis=1)\n",
    "print(df)\n"
   ]
  },
  {
   "cell_type": "markdown",
   "id": "9796342e-228d-40c0-8010-fff690fa8c24",
   "metadata": {},
   "source": [
    "## one line => 1 client, 1 MFI, 1 month"
   ]
  },
  {
   "cell_type": "code",
   "execution_count": 6,
   "id": "714715d0-4b30-432d-81d6-3b843046f835",
   "metadata": {},
   "outputs": [
    {
     "name": "stdout",
     "output_type": "stream",
     "text": [
      "Sample Data:\n",
      "    id    month  location active_status    MFI\n",
      "0   1  2023-01     rural      inactive  MFI_A\n",
      "1   1  2023-02     urban      inactive  MFI_C\n",
      "2   1  2023-03     rural      inactive  MFI_B\n",
      "3   1  2023-04     rural        active  MFI_A\n",
      "4   1  2023-05     urban        active  MFI_A\n",
      "5   2  2023-01     urban        active  MFI_A\n",
      "6   2  2023-02     rural        active  MFI_C\n",
      "7   2  2023-03  suburban      inactive  MFI_B\n",
      "8   2  2023-04     rural        active  MFI_A\n",
      "9   2  2023-05     rural        active  MFI_A\n"
     ]
    }
   ],
   "source": [
    "import pandas as pd\n",
    "import numpy as np\n",
    "\n",
    "# Generate sample data for 100 entries\n",
    "np.random.seed(42)  # For reproducibility\n",
    "\n",
    "# Generate IDs (20 unique clients, each with 5 months of data)\n",
    "ids = np.repeat(np.arange(1, 21), 5)\n",
    "\n",
    "# Generate months\n",
    "months = pd.date_range(start='2023-01', periods=5, freq='ME').strftime('%Y-%m').tolist() * 20\n",
    "\n",
    "# Generate locations\n",
    "locations = np.random.choice(['urban', 'suburban', 'rural'], size=100)\n",
    "\n",
    "# Generate active status\n",
    "active_statuses = np.random.choice(['active', 'inactive'], size=100)\n",
    "\n",
    "# Generate MFIs\n",
    "mfis = np.random.choice(['MFI_A', 'MFI_B', 'MFI_C'], size=100)\n",
    "\n",
    "# Create the DataFrame\n",
    "data = {\n",
    "    'id': ids,\n",
    "    'month': months,\n",
    "    'location': locations,\n",
    "    'active_status': active_statuses,\n",
    "    'MFI': mfis\n",
    "}\n",
    "\n",
    "df = pd.DataFrame(data)\n",
    "print(\"Sample Data:\\n\", df.head(10))\n",
    "\n"
   ]
  },
  {
   "cell_type": "code",
   "execution_count": 7,
   "id": "354e145b-4940-492b-b924-4ee37e2b1f4c",
   "metadata": {},
   "outputs": [
    {
     "name": "stdout",
     "output_type": "stream",
     "text": [
      "Data with Credit Scores:\n",
      "     id    month  location active_status    MFI  credit_score\n",
      "0    1  2023-01     rural      inactive  MFI_A            50\n",
      "1    2  2023-01     urban        active  MFI_A            80\n",
      "2    3  2023-01     rural        active  MFI_A            55\n",
      "3    4  2023-01     urban      inactive  MFI_A            50\n",
      "4    5  2023-01     urban      inactive  MFI_B            65\n",
      "5    6  2023-01     urban        active  MFI_A            70\n",
      "6    7  2023-01  suburban        active  MFI_C            35\n",
      "7    8  2023-01  suburban        active  MFI_A            65\n",
      "8    9  2023-01     urban      inactive  MFI_B            55\n",
      "9   10  2023-01     rural        active  MFI_A            30\n",
      "10  11  2023-01  suburban        active  MFI_B            55\n",
      "11  12  2023-01     rural      inactive  MFI_C            25\n",
      "12  13  2023-01  suburban        active  MFI_B            50\n",
      "13  14  2023-01  suburban      inactive  MFI_A            35\n",
      "14  15  2023-01     rural        active  MFI_C            60\n",
      "15  16  2023-01  suburban        active  MFI_C            65\n",
      "16  17  2023-01     rural      inactive  MFI_C            35\n",
      "17  18  2023-01  suburban      inactive  MFI_A            40\n",
      "18  19  2023-01     urban      inactive  MFI_B            50\n",
      "19  20  2023-01     urban      inactive  MFI_A            55\n"
     ]
    },
    {
     "name": "stderr",
     "output_type": "stream",
     "text": [
      "C:\\Users\\Ei Nghon Phoo\\AppData\\Local\\Temp\\ipykernel_25588\\607130284.py:37: DeprecationWarning: DataFrameGroupBy.apply operated on the grouping columns. This behavior is deprecated, and in a future version of pandas the grouping columns will be excluded from the operation. Either pass `include_groups=False` to exclude the groupings or explicitly select the grouping columns after groupby to silence this warning.\n",
      "  df_grouped = df.groupby('id').apply(calculate_credit_score).reset_index(name='credit_score')\n"
     ]
    }
   ],
   "source": [
    "# Define weights\n",
    "location_weights = {\n",
    "    'urban': 50,\n",
    "    'suburban': 30,\n",
    "    'rural': 20\n",
    "}\n",
    "\n",
    "status_weight_per_month = 10\n",
    "consecutive_months_bonus = 5\n",
    "multiple_MFI_penalty = 20\n",
    "\n",
    "# Function to calculate credit score\n",
    "def calculate_credit_score(group):\n",
    "    location_score = location_weights.get(group['location'].iloc[0], 0)\n",
    "    \n",
    "    # Scenario 1: Active in consecutive months\n",
    "    active_months = group['active_status'] == 'active'\n",
    "    consecutive_active_months = active_months.groupby((active_months != active_months.shift()).cumsum()).transform('size')\n",
    "    max_consecutive_active = consecutive_active_months[active_months].max()\n",
    "    consecutive_bonus = max_consecutive_active * consecutive_months_bonus if pd.notna(max_consecutive_active) else 0\n",
    "\n",
    "    # Scenario 2: Active in y months, inactive in x months, and then active again\n",
    "    active_periods = active_months.diff().ne(0).cumsum()[active_months]\n",
    "    periods = active_periods.value_counts()\n",
    "    total_active_periods = periods.sum()\n",
    "    status_score = total_active_periods * status_weight_per_month\n",
    "\n",
    "    # Scenario 3: Active in multiple MFIs for x months and then only active in 1 MFI for y months\n",
    "    unique_mfis = group.loc[active_months, 'MFI'].nunique()\n",
    "    mfi_penalty = (unique_mfis - 1) * multiple_MFI_penalty if unique_mfis > 1 else 0\n",
    "\n",
    "    # Total score\n",
    "    credit_score = location_score + status_score + consecutive_bonus - mfi_penalty\n",
    "    return credit_score\n",
    "\n",
    "# Group by client id to calculate the scores\n",
    "df_grouped = df.groupby('id').apply(calculate_credit_score).reset_index(name='credit_score')\n",
    "\n",
    "# Merge the credit scores with the original data\n",
    "df_final = pd.merge(df, df_grouped, on='id').drop_duplicates(subset=['id']).reset_index(drop=True)\n",
    "\n",
    "print(\"Data with Credit Scores:\\n\", df_final)\n"
   ]
  },
  {
   "cell_type": "code",
   "execution_count": 8,
   "id": "e4e6440a-178c-4d8e-8f8e-00f45fe74dc6",
   "metadata": {},
   "outputs": [
    {
     "data": {
      "image/png": "[encoded data removed]",
      "text/plain": [
       "<Figure size 800x600 with 1 Axes>"
      ]
     },
     "metadata": {},
     "output_type": "display_data"
    }
   ],
   "source": [
    "import matplotlib.pyplot as plt\n",
    "import seaborn as sns\n",
    "\n",
    "# Plot the distribution of 'location'\n",
    "plt.figure(figsize=(8, 6))\n",
    "sns.countplot(data=df, x='location')\n",
    "plt.title('Distribution of Locations')\n",
    "plt.show()"
   ]
  },
  {
   "cell_type": "code",
   "execution_count": 9,
   "id": "2a90e852-9f64-4220-bdb3-f269819acfa9",
   "metadata": {},
   "outputs": [
    {
     "data": {
      "image/png": "[encoded data removed]",
      "text/plain": [
       "<Figure size 800x600 with 1 Axes>"
      ]
     },
     "metadata": {},
     "output_type": "display_data"
    }
   ],
   "source": [
    "# Plot the distribution of 'active_status'\n",
    "plt.figure(figsize=(8, 6))\n",
    "sns.countplot(data=df, x='active_status')\n",
    "plt.title('Distribution of Active Status')\n",
    "plt.show()"
   ]
  },
  {
   "cell_type": "code",
   "execution_count": 10,
   "id": "187ad715-6538-4f31-a67e-c6361e30e323",
   "metadata": {},
   "outputs": [
    {
     "data": {
      "image/png": "[encoded data removed]",
      "text/plain": [
       "<Figure size 800x600 with 1 Axes>"
      ]
     },
     "metadata": {},
     "output_type": "display_data"
    }
   ],
   "source": [
    "# Plot the distribution of 'MFI'\n",
    "plt.figure(figsize=(8, 6))\n",
    "sns.countplot(data=df, x='MFI')\n",
    "plt.title('Distribution of MFIs')\n",
    "plt.show()"
   ]
  },
  {
   "cell_type": "code",
   "execution_count": 11,
   "id": "a409939f-17aa-4743-97e5-51acc6b59799",
   "metadata": {},
   "outputs": [
    {
     "name": "stdout",
     "output_type": "stream",
     "text": [
      "Requirement already satisfied: networkx in d:\\app_installations\\anaconda\\lib\\site-packages (3.2.1)\n",
      "Requirement already satisfied: matplotlib in d:\\app_installations\\anaconda\\lib\\site-packages (3.8.4)\n",
      "Requirement already satisfied: contourpy>=1.0.1 in d:\\app_installations\\anaconda\\lib\\site-packages (from matplotlib) (1.2.0)\n",
      "Requirement already satisfied: cycler>=0.10 in d:\\app_installations\\anaconda\\lib\\site-packages (from matplotlib) (0.11.0)\n",
      "Requirement already satisfied: fonttools>=4.22.0 in d:\\app_installations\\anaconda\\lib\\site-packages (from matplotlib) (4.51.0)\n",
      "Requirement already satisfied: kiwisolver>=1.3.1 in d:\\app_installations\\anaconda\\lib\\site-packages (from matplotlib) (1.4.4)\n",
      "Requirement already satisfied: numpy>=1.21 in d:\\app_installations\\anaconda\\lib\\site-packages (from matplotlib) (1.26.4)\n",
      "Requirement already satisfied: packaging>=20.0 in d:\\app_installations\\anaconda\\lib\\site-packages (from matplotlib) (23.2)\n",
      "Requirement already satisfied: pillow>=8 in d:\\app_installations\\anaconda\\lib\\site-packages (from matplotlib) (10.3.0)\n",
      "Requirement already satisfied: pyparsing>=2.3.1 in d:\\app_installations\\anaconda\\lib\\site-packages (from matplotlib) (3.0.9)\n",
      "Requirement already satisfied: python-dateutil>=2.7 in d:\\app_installations\\anaconda\\lib\\site-packages (from matplotlib) (2.9.0.post0)\n",
      "Requirement already satisfied: six>=1.5 in d:\\app_installations\\anaconda\\lib\\site-packages (from python-dateutil>=2.7->matplotlib) (1.16.0)\n",
      "Note: you may need to restart the kernel to use updated packages.\n"
     ]
    }
   ],
   "source": [
    "pip install networkx matplotlib\n"
   ]
  },
  {
   "cell_type": "markdown",
   "id": "19dd8fd5-df23-47a1-ae92-506557e6cb67",
   "metadata": {},
   "source": [
    "## adding additional rules"
   ]
  },
  {
   "cell_type": "code",
   "execution_count": 14,
   "id": "40164c6a-ffde-4a99-8bd3-09b97cfa749a",
   "metadata": {},
   "outputs": [],
   "source": [
    "import pandas as pd\n",
    "import numpy as np\n",
    "import networkx as nx\n",
    "import matplotlib.pyplot as plt\n",
    "import seaborn as sns"
   ]
  },
  {
   "cell_type": "code",
   "execution_count": 16,
   "id": "a7ea0713-06f0-411a-bbec-bf65a2341b2d",
   "metadata": {},
   "outputs": [],
   "source": [
    "# Generate sample data for 100 entries\n",
    "np.random.seed(42)  # For reproducibility\n",
    "\n",
    "# Generate IDs (20 unique clients, each with 5 months of data)\n",
    "ids = np.repeat(np.arange(1, 21), 5)\n",
    "\n",
    "# Generate months\n",
    "months = pd.date_range(start='2023-01', periods=5, freq='ME').strftime('%Y-%m').tolist() * 20\n",
    "\n",
    "# Generate locations\n",
    "locations = np.random.choice(['urban', 'suburban', 'rural'], size=100)\n",
    "\n",
    "# Generate active status\n",
    "active_statuses = np.random.choice(['active', 'inactive'], size=100)\n",
    "\n",
    "# Generate MFIs\n",
    "mfis = np.random.choice(['MFI_A', 'MFI_B', 'MFI_C'], size=100)\n"
   ]
  },
  {
   "cell_type": "code",
   "execution_count": 17,
   "id": "489771d5-579e-4a75-ba09-64c76684cd32",
   "metadata": {},
   "outputs": [],
   "source": [
    "# Create the DataFrame\n",
    "data = {\n",
    "    'id': ids,\n",
    "    'month': months,\n",
    "    'location': locations,\n",
    "    'active_status': active_statuses,\n",
    "    'MFI': mfis\n",
    "}\n",
    "\n",
    "df = pd.DataFrame(data)"
   ]
  },
  {
   "cell_type": "code",
   "execution_count": 18,
   "id": "81e4c547-b2b8-4f40-a3b5-2d77c7b35f7a",
   "metadata": {},
   "outputs": [],
   "source": [
    "# Weight and penalty definitions\n",
    "location_weights = {'urban': 1.0, 'suburban': 0.8, 'rural': 0.6}\n",
    "status_weight_per_month = 1\n",
    "consecutive_months_bonus = 2\n",
    "multiple_MFI_penalty = 5\n",
    "location_change_penalty = 10\n",
    "location_borrow_penalty = 5"
   ]
  },
  {
   "cell_type": "code",
   "execution_count": 19,
   "id": "4ac06983-aa58-4b2c-95ae-0608a3cfd3f9",
   "metadata": {},
   "outputs": [],
   "source": [
    "def calculate_credit_score(group):\n",
    "    location_score = group['location'].map(location_weights).sum()\n",
    "\n",
    "    # Scenario 1: Active in x consecutive months\n",
    "    active_months = group['active_status'] == 'active'\n",
    "    consecutive_active_months = group.groupby((active_months != active_months.shift()).cumsum()).transform('size')\n",
    "    max_consecutive_active = consecutive_active_months[active_months].max()\n",
    "    consecutive_bonus = max_consecutive_active * consecutive_months_bonus if pd.notna(max_consecutive_active) else 0\n",
    "\n",
    "    # Scenario 2: Active in y months, inactive in x months, and then active again\n",
    "    active_periods = active_months.diff().ne(0).cumsum()[active_months]\n",
    "    periods = active_periods.value_counts()\n",
    "    total_active_periods = periods.sum()\n",
    "    status_score = total_active_periods * status_weight_per_month\n",
    "\n",
    "    # Scenario 3: Active in multiple MFIs for x months and then only active in 1 MFI for y months\n",
    "    unique_mfis = group.loc[active_months, 'MFI'].nunique()\n",
    "    mfi_penalty = (unique_mfis - 1) * multiple_MFI_penalty if unique_mfis > 1 else 0\n",
    "\n",
    "    # New Rule 1: Location change within the same MFI more than twice in a year\n",
    "    location_change_penalty_score = 0\n",
    "    for mfi, mfi_group in group.groupby('MFI'):\n",
    "        location_changes = mfi_group['location'].diff().ne(0).sum()\n",
    "        if location_changes > 2:\n",
    "            location_change_penalty_score += location_change_penalty\n",
    "\n",
    "    # New Rule 2: Borrowing from MFIs in different locations\n",
    "    location_borrow_penalty_score = 0\n",
    "    mfi_locations = group.groupby('MFI')['location'].nunique()\n",
    "    if mfi_locations.gt(1).any():\n",
    "        location_borrow_penalty_score += location_borrow_penalty\n",
    "\n",
    "    # Total score\n",
    "    credit_score = (\n",
    "        location_score\n",
    "        + status_score\n",
    "        + consecutive_bonus\n",
    "        - mfi_penalty\n",
    "        - location_change_penalty_score\n",
    "        - location_borrow_penalty_score\n",
    "    )\n",
    "    return credit_score\n"
   ]
  },
  {
   "cell_type": "code",
   "execution_count": 20,
   "id": "df3b7da2-a75f-45db-9dcf-d2a4e1b75a78",
   "metadata": {},
   "outputs": [
    {
     "ename": "TypeError",
     "evalue": "unsupported operand type(s) for -: 'str' and 'str'",
     "output_type": "error",
     "traceback": [
      "\u001b[1;31m---------------------------------------------------------------------------\u001b[0m",
      "\u001b[1;31mTypeError\u001b[0m                                 Traceback (most recent call last)",
      "File \u001b[1;32mD:\\App_installations\\Anaconda\\Lib\\site-packages\\pandas\\core\\groupby\\groupby.py:1824\u001b[0m, in \u001b[0;36mGroupBy.apply\u001b[1;34m(self, func, include_groups, *args, **kwargs)\u001b[0m\n\u001b[0;32m   1823\u001b[0m \u001b[38;5;28;01mtry\u001b[39;00m:\n\u001b[1;32m-> 1824\u001b[0m     result \u001b[38;5;241m=\u001b[39m \u001b[38;5;28mself\u001b[39m\u001b[38;5;241m.\u001b[39m_python_apply_general(f, \u001b[38;5;28mself\u001b[39m\u001b[38;5;241m.\u001b[39m_selected_obj)\n\u001b[0;32m   1825\u001b[0m     \u001b[38;5;28;01mif\u001b[39;00m (\n\u001b[0;32m   1826\u001b[0m         \u001b[38;5;129;01mnot\u001b[39;00m \u001b[38;5;28misinstance\u001b[39m(\u001b[38;5;28mself\u001b[39m\u001b[38;5;241m.\u001b[39mobj, Series)\n\u001b[0;32m   1827\u001b[0m         \u001b[38;5;129;01mand\u001b[39;00m \u001b[38;5;28mself\u001b[39m\u001b[38;5;241m.\u001b[39m_selection \u001b[38;5;129;01mis\u001b[39;00m \u001b[38;5;28;01mNone\u001b[39;00m\n\u001b[0;32m   1828\u001b[0m         \u001b[38;5;129;01mand\u001b[39;00m \u001b[38;5;28mself\u001b[39m\u001b[38;5;241m.\u001b[39m_selected_obj\u001b[38;5;241m.\u001b[39mshape \u001b[38;5;241m!=\u001b[39m \u001b[38;5;28mself\u001b[39m\u001b[38;5;241m.\u001b[39m_obj_with_exclusions\u001b[38;5;241m.\u001b[39mshape\n\u001b[0;32m   1829\u001b[0m     ):\n",
      "File \u001b[1;32mD:\\App_installations\\Anaconda\\Lib\\site-packages\\pandas\\core\\groupby\\groupby.py:1885\u001b[0m, in \u001b[0;36mGroupBy._python_apply_general\u001b[1;34m(self, f, data, not_indexed_same, is_transform, is_agg)\u001b[0m\n\u001b[0;32m   1859\u001b[0m \u001b[38;5;250m\u001b[39m\u001b[38;5;124;03m\"\"\"\u001b[39;00m\n\u001b[0;32m   1860\u001b[0m \u001b[38;5;124;03mApply function f in python space\u001b[39;00m\n\u001b[0;32m   1861\u001b[0m \n\u001b[1;32m   (...)\u001b[0m\n\u001b[0;32m   1883\u001b[0m \u001b[38;5;124;03m    data after applying f\u001b[39;00m\n\u001b[0;32m   1884\u001b[0m \u001b[38;5;124;03m\"\"\"\u001b[39;00m\n\u001b[1;32m-> 1885\u001b[0m values, mutated \u001b[38;5;241m=\u001b[39m \u001b[38;5;28mself\u001b[39m\u001b[38;5;241m.\u001b[39m_grouper\u001b[38;5;241m.\u001b[39mapply_groupwise(f, data, \u001b[38;5;28mself\u001b[39m\u001b[38;5;241m.\u001b[39maxis)\n\u001b[0;32m   1886\u001b[0m \u001b[38;5;28;01mif\u001b[39;00m not_indexed_same \u001b[38;5;129;01mis\u001b[39;00m \u001b[38;5;28;01mNone\u001b[39;00m:\n",
      "File \u001b[1;32mD:\\App_installations\\Anaconda\\Lib\\site-packages\\pandas\\core\\groupby\\ops.py:919\u001b[0m, in \u001b[0;36mBaseGrouper.apply_groupwise\u001b[1;34m(self, f, data, axis)\u001b[0m\n\u001b[0;32m    918\u001b[0m group_axes \u001b[38;5;241m=\u001b[39m group\u001b[38;5;241m.\u001b[39maxes\n\u001b[1;32m--> 919\u001b[0m res \u001b[38;5;241m=\u001b[39m f(group)\n\u001b[0;32m    920\u001b[0m \u001b[38;5;28;01mif\u001b[39;00m \u001b[38;5;129;01mnot\u001b[39;00m mutated \u001b[38;5;129;01mand\u001b[39;00m \u001b[38;5;129;01mnot\u001b[39;00m _is_indexed_like(res, group_axes, axis):\n",
      "Cell \u001b[1;32mIn[19], line 23\u001b[0m, in \u001b[0;36mcalculate_credit_score\u001b[1;34m(group)\u001b[0m\n\u001b[0;32m     22\u001b[0m \u001b[38;5;28;01mfor\u001b[39;00m mfi, mfi_group \u001b[38;5;129;01min\u001b[39;00m group\u001b[38;5;241m.\u001b[39mgroupby(\u001b[38;5;124m'\u001b[39m\u001b[38;5;124mMFI\u001b[39m\u001b[38;5;124m'\u001b[39m):\n\u001b[1;32m---> 23\u001b[0m     location_changes \u001b[38;5;241m=\u001b[39m mfi_group[\u001b[38;5;124m'\u001b[39m\u001b[38;5;124mlocation\u001b[39m\u001b[38;5;124m'\u001b[39m]\u001b[38;5;241m.\u001b[39mdiff()\u001b[38;5;241m.\u001b[39mne(\u001b[38;5;241m0\u001b[39m)\u001b[38;5;241m.\u001b[39msum()\n\u001b[0;32m     24\u001b[0m     \u001b[38;5;28;01mif\u001b[39;00m location_changes \u001b[38;5;241m>\u001b[39m \u001b[38;5;241m2\u001b[39m:\n",
      "File \u001b[1;32mD:\\App_installations\\Anaconda\\Lib\\site-packages\\pandas\\core\\series.py:3120\u001b[0m, in \u001b[0;36mSeries.diff\u001b[1;34m(self, periods)\u001b[0m\n\u001b[0;32m   3085\u001b[0m \u001b[38;5;250m\u001b[39m\u001b[38;5;124;03m\"\"\"\u001b[39;00m\n\u001b[0;32m   3086\u001b[0m \u001b[38;5;124;03mFirst discrete difference of element.\u001b[39;00m\n\u001b[0;32m   3087\u001b[0m \n\u001b[1;32m   (...)\u001b[0m\n\u001b[0;32m   3118\u001b[0m \u001b[38;5;124;03m{examples}\u001b[39;00m\n\u001b[0;32m   3119\u001b[0m \u001b[38;5;124;03m\"\"\"\u001b[39;00m\n\u001b[1;32m-> 3120\u001b[0m result \u001b[38;5;241m=\u001b[39m algorithms\u001b[38;5;241m.\u001b[39mdiff(\u001b[38;5;28mself\u001b[39m\u001b[38;5;241m.\u001b[39m_values, periods)\n\u001b[0;32m   3121\u001b[0m \u001b[38;5;28;01mreturn\u001b[39;00m \u001b[38;5;28mself\u001b[39m\u001b[38;5;241m.\u001b[39m_constructor(result, index\u001b[38;5;241m=\u001b[39m\u001b[38;5;28mself\u001b[39m\u001b[38;5;241m.\u001b[39mindex, copy\u001b[38;5;241m=\u001b[39m\u001b[38;5;28;01mFalse\u001b[39;00m)\u001b[38;5;241m.\u001b[39m__finalize__(\n\u001b[0;32m   3122\u001b[0m     \u001b[38;5;28mself\u001b[39m, method\u001b[38;5;241m=\u001b[39m\u001b[38;5;124m\"\u001b[39m\u001b[38;5;124mdiff\u001b[39m\u001b[38;5;124m\"\u001b[39m\n\u001b[0;32m   3123\u001b[0m )\n",
      "File \u001b[1;32mD:\\App_installations\\Anaconda\\Lib\\site-packages\\pandas\\core\\algorithms.py:1435\u001b[0m, in \u001b[0;36mdiff\u001b[1;34m(arr, n, axis)\u001b[0m\n\u001b[0;32m   1433\u001b[0m     lag_indexer \u001b[38;5;241m=\u001b[39m \u001b[38;5;28mtuple\u001b[39m(_lag_indexer)\n\u001b[1;32m-> 1435\u001b[0m     out_arr[res_indexer] \u001b[38;5;241m=\u001b[39m op(arr[res_indexer], arr[lag_indexer])\n\u001b[0;32m   1437\u001b[0m \u001b[38;5;28;01mif\u001b[39;00m is_timedelta:\n",
      "\u001b[1;31mTypeError\u001b[0m: unsupported operand type(s) for -: 'str' and 'str'",
      "\nDuring handling of the above exception, another exception occurred:\n",
      "\u001b[1;31mTypeError\u001b[0m                                 Traceback (most recent call last)",
      "Cell \u001b[1;32mIn[20], line 2\u001b[0m\n\u001b[0;32m      1\u001b[0m \u001b[38;5;66;03m# Group by client id to calculate the scores\u001b[39;00m\n\u001b[1;32m----> 2\u001b[0m df_grouped \u001b[38;5;241m=\u001b[39m df\u001b[38;5;241m.\u001b[39mgroupby(\u001b[38;5;124m'\u001b[39m\u001b[38;5;124mid\u001b[39m\u001b[38;5;124m'\u001b[39m)\u001b[38;5;241m.\u001b[39mapply(calculate_credit_score)\u001b[38;5;241m.\u001b[39mreset_index(name\u001b[38;5;241m=\u001b[39m\u001b[38;5;124m'\u001b[39m\u001b[38;5;124mcredit_score\u001b[39m\u001b[38;5;124m'\u001b[39m)\n",
      "File \u001b[1;32mD:\\App_installations\\Anaconda\\Lib\\site-packages\\pandas\\core\\groupby\\groupby.py:1846\u001b[0m, in \u001b[0;36mGroupBy.apply\u001b[1;34m(self, func, include_groups, *args, **kwargs)\u001b[0m\n\u001b[0;32m   1830\u001b[0m             warnings\u001b[38;5;241m.\u001b[39mwarn(\n\u001b[0;32m   1831\u001b[0m                 message\u001b[38;5;241m=\u001b[39m_apply_groupings_depr\u001b[38;5;241m.\u001b[39mformat(\n\u001b[0;32m   1832\u001b[0m                     \u001b[38;5;28mtype\u001b[39m(\u001b[38;5;28mself\u001b[39m)\u001b[38;5;241m.\u001b[39m\u001b[38;5;18m__name__\u001b[39m, \u001b[38;5;124m\"\u001b[39m\u001b[38;5;124mapply\u001b[39m\u001b[38;5;124m\"\u001b[39m\n\u001b[1;32m   (...)\u001b[0m\n\u001b[0;32m   1835\u001b[0m                 stacklevel\u001b[38;5;241m=\u001b[39mfind_stack_level(),\n\u001b[0;32m   1836\u001b[0m             )\n\u001b[0;32m   1837\u001b[0m     \u001b[38;5;28;01mexcept\u001b[39;00m \u001b[38;5;167;01mTypeError\u001b[39;00m:\n\u001b[0;32m   1838\u001b[0m         \u001b[38;5;66;03m# gh-20949\u001b[39;00m\n\u001b[0;32m   1839\u001b[0m         \u001b[38;5;66;03m# try again, with .apply acting as a filtering\u001b[39;00m\n\u001b[1;32m   (...)\u001b[0m\n\u001b[0;32m   1843\u001b[0m         \u001b[38;5;66;03m# fails on *some* columns, e.g. a numeric operation\u001b[39;00m\n\u001b[0;32m   1844\u001b[0m         \u001b[38;5;66;03m# on a string grouper column\u001b[39;00m\n\u001b[1;32m-> 1846\u001b[0m         \u001b[38;5;28;01mreturn\u001b[39;00m \u001b[38;5;28mself\u001b[39m\u001b[38;5;241m.\u001b[39m_python_apply_general(f, \u001b[38;5;28mself\u001b[39m\u001b[38;5;241m.\u001b[39m_obj_with_exclusions)\n\u001b[0;32m   1848\u001b[0m \u001b[38;5;28;01mreturn\u001b[39;00m result\n",
      "File \u001b[1;32mD:\\App_installations\\Anaconda\\Lib\\site-packages\\pandas\\core\\groupby\\groupby.py:1885\u001b[0m, in \u001b[0;36mGroupBy._python_apply_general\u001b[1;34m(self, f, data, not_indexed_same, is_transform, is_agg)\u001b[0m\n\u001b[0;32m   1850\u001b[0m \u001b[38;5;129m@final\u001b[39m\n\u001b[0;32m   1851\u001b[0m \u001b[38;5;28;01mdef\u001b[39;00m \u001b[38;5;21m_python_apply_general\u001b[39m(\n\u001b[0;32m   1852\u001b[0m     \u001b[38;5;28mself\u001b[39m,\n\u001b[1;32m   (...)\u001b[0m\n\u001b[0;32m   1857\u001b[0m     is_agg: \u001b[38;5;28mbool\u001b[39m \u001b[38;5;241m=\u001b[39m \u001b[38;5;28;01mFalse\u001b[39;00m,\n\u001b[0;32m   1858\u001b[0m ) \u001b[38;5;241m-\u001b[39m\u001b[38;5;241m>\u001b[39m NDFrameT:\n\u001b[0;32m   1859\u001b[0m \u001b[38;5;250m    \u001b[39m\u001b[38;5;124;03m\"\"\"\u001b[39;00m\n\u001b[0;32m   1860\u001b[0m \u001b[38;5;124;03m    Apply function f in python space\u001b[39;00m\n\u001b[0;32m   1861\u001b[0m \n\u001b[1;32m   (...)\u001b[0m\n\u001b[0;32m   1883\u001b[0m \u001b[38;5;124;03m        data after applying f\u001b[39;00m\n\u001b[0;32m   1884\u001b[0m \u001b[38;5;124;03m    \"\"\"\u001b[39;00m\n\u001b[1;32m-> 1885\u001b[0m     values, mutated \u001b[38;5;241m=\u001b[39m \u001b[38;5;28mself\u001b[39m\u001b[38;5;241m.\u001b[39m_grouper\u001b[38;5;241m.\u001b[39mapply_groupwise(f, data, \u001b[38;5;28mself\u001b[39m\u001b[38;5;241m.\u001b[39maxis)\n\u001b[0;32m   1886\u001b[0m     \u001b[38;5;28;01mif\u001b[39;00m not_indexed_same \u001b[38;5;129;01mis\u001b[39;00m \u001b[38;5;28;01mNone\u001b[39;00m:\n\u001b[0;32m   1887\u001b[0m         not_indexed_same \u001b[38;5;241m=\u001b[39m mutated\n",
      "File \u001b[1;32mD:\\App_installations\\Anaconda\\Lib\\site-packages\\pandas\\core\\groupby\\ops.py:919\u001b[0m, in \u001b[0;36mBaseGrouper.apply_groupwise\u001b[1;34m(self, f, data, axis)\u001b[0m\n\u001b[0;32m    917\u001b[0m \u001b[38;5;66;03m# group might be modified\u001b[39;00m\n\u001b[0;32m    918\u001b[0m group_axes \u001b[38;5;241m=\u001b[39m group\u001b[38;5;241m.\u001b[39maxes\n\u001b[1;32m--> 919\u001b[0m res \u001b[38;5;241m=\u001b[39m f(group)\n\u001b[0;32m    920\u001b[0m \u001b[38;5;28;01mif\u001b[39;00m \u001b[38;5;129;01mnot\u001b[39;00m mutated \u001b[38;5;129;01mand\u001b[39;00m \u001b[38;5;129;01mnot\u001b[39;00m _is_indexed_like(res, group_axes, axis):\n\u001b[0;32m    921\u001b[0m     mutated \u001b[38;5;241m=\u001b[39m \u001b[38;5;28;01mTrue\u001b[39;00m\n",
      "Cell \u001b[1;32mIn[19], line 23\u001b[0m, in \u001b[0;36mcalculate_credit_score\u001b[1;34m(group)\u001b[0m\n\u001b[0;32m     21\u001b[0m location_change_penalty_score \u001b[38;5;241m=\u001b[39m \u001b[38;5;241m0\u001b[39m\n\u001b[0;32m     22\u001b[0m \u001b[38;5;28;01mfor\u001b[39;00m mfi, mfi_group \u001b[38;5;129;01min\u001b[39;00m group\u001b[38;5;241m.\u001b[39mgroupby(\u001b[38;5;124m'\u001b[39m\u001b[38;5;124mMFI\u001b[39m\u001b[38;5;124m'\u001b[39m):\n\u001b[1;32m---> 23\u001b[0m     location_changes \u001b[38;5;241m=\u001b[39m mfi_group[\u001b[38;5;124m'\u001b[39m\u001b[38;5;124mlocation\u001b[39m\u001b[38;5;124m'\u001b[39m]\u001b[38;5;241m.\u001b[39mdiff()\u001b[38;5;241m.\u001b[39mne(\u001b[38;5;241m0\u001b[39m)\u001b[38;5;241m.\u001b[39msum()\n\u001b[0;32m     24\u001b[0m     \u001b[38;5;28;01mif\u001b[39;00m location_changes \u001b[38;5;241m>\u001b[39m \u001b[38;5;241m2\u001b[39m:\n\u001b[0;32m     25\u001b[0m         location_change_penalty_score \u001b[38;5;241m+\u001b[39m\u001b[38;5;241m=\u001b[39m location_change_penalty\n",
      "File \u001b[1;32mD:\\App_installations\\Anaconda\\Lib\\site-packages\\pandas\\core\\series.py:3120\u001b[0m, in \u001b[0;36mSeries.diff\u001b[1;34m(self, periods)\u001b[0m\n\u001b[0;32m   3035\u001b[0m \u001b[38;5;129m@doc\u001b[39m(\n\u001b[0;32m   3036\u001b[0m     klass\u001b[38;5;241m=\u001b[39m\u001b[38;5;124m\"\u001b[39m\u001b[38;5;124mSeries\u001b[39m\u001b[38;5;124m\"\u001b[39m,\n\u001b[0;32m   3037\u001b[0m     extra_params\u001b[38;5;241m=\u001b[39m\u001b[38;5;124m\"\u001b[39m\u001b[38;5;124m\"\u001b[39m,\n\u001b[1;32m   (...)\u001b[0m\n\u001b[0;32m   3083\u001b[0m )\n\u001b[0;32m   3084\u001b[0m \u001b[38;5;28;01mdef\u001b[39;00m \u001b[38;5;21mdiff\u001b[39m(\u001b[38;5;28mself\u001b[39m, periods: \u001b[38;5;28mint\u001b[39m \u001b[38;5;241m=\u001b[39m \u001b[38;5;241m1\u001b[39m) \u001b[38;5;241m-\u001b[39m\u001b[38;5;241m>\u001b[39m Series:\n\u001b[0;32m   3085\u001b[0m \u001b[38;5;250m    \u001b[39m\u001b[38;5;124;03m\"\"\"\u001b[39;00m\n\u001b[0;32m   3086\u001b[0m \u001b[38;5;124;03m    First discrete difference of element.\u001b[39;00m\n\u001b[0;32m   3087\u001b[0m \n\u001b[1;32m   (...)\u001b[0m\n\u001b[0;32m   3118\u001b[0m \u001b[38;5;124;03m    {examples}\u001b[39;00m\n\u001b[0;32m   3119\u001b[0m \u001b[38;5;124;03m    \"\"\"\u001b[39;00m\n\u001b[1;32m-> 3120\u001b[0m     result \u001b[38;5;241m=\u001b[39m algorithms\u001b[38;5;241m.\u001b[39mdiff(\u001b[38;5;28mself\u001b[39m\u001b[38;5;241m.\u001b[39m_values, periods)\n\u001b[0;32m   3121\u001b[0m     \u001b[38;5;28;01mreturn\u001b[39;00m \u001b[38;5;28mself\u001b[39m\u001b[38;5;241m.\u001b[39m_constructor(result, index\u001b[38;5;241m=\u001b[39m\u001b[38;5;28mself\u001b[39m\u001b[38;5;241m.\u001b[39mindex, copy\u001b[38;5;241m=\u001b[39m\u001b[38;5;28;01mFalse\u001b[39;00m)\u001b[38;5;241m.\u001b[39m__finalize__(\n\u001b[0;32m   3122\u001b[0m         \u001b[38;5;28mself\u001b[39m, method\u001b[38;5;241m=\u001b[39m\u001b[38;5;124m\"\u001b[39m\u001b[38;5;124mdiff\u001b[39m\u001b[38;5;124m\"\u001b[39m\n\u001b[0;32m   3123\u001b[0m     )\n",
      "File \u001b[1;32mD:\\App_installations\\Anaconda\\Lib\\site-packages\\pandas\\core\\algorithms.py:1435\u001b[0m, in \u001b[0;36mdiff\u001b[1;34m(arr, n, axis)\u001b[0m\n\u001b[0;32m   1432\u001b[0m     _lag_indexer[axis] \u001b[38;5;241m=\u001b[39m \u001b[38;5;28mslice\u001b[39m(\u001b[38;5;28;01mNone\u001b[39;00m, \u001b[38;5;241m-\u001b[39mn) \u001b[38;5;28;01mif\u001b[39;00m n \u001b[38;5;241m>\u001b[39m \u001b[38;5;241m0\u001b[39m \u001b[38;5;28;01melse\u001b[39;00m \u001b[38;5;28mslice\u001b[39m(\u001b[38;5;241m-\u001b[39mn, \u001b[38;5;28;01mNone\u001b[39;00m)\n\u001b[0;32m   1433\u001b[0m     lag_indexer \u001b[38;5;241m=\u001b[39m \u001b[38;5;28mtuple\u001b[39m(_lag_indexer)\n\u001b[1;32m-> 1435\u001b[0m     out_arr[res_indexer] \u001b[38;5;241m=\u001b[39m op(arr[res_indexer], arr[lag_indexer])\n\u001b[0;32m   1437\u001b[0m \u001b[38;5;28;01mif\u001b[39;00m is_timedelta:\n\u001b[0;32m   1438\u001b[0m     out_arr \u001b[38;5;241m=\u001b[39m out_arr\u001b[38;5;241m.\u001b[39mview(\u001b[38;5;124m\"\u001b[39m\u001b[38;5;124mtimedelta64[ns]\u001b[39m\u001b[38;5;124m\"\u001b[39m)\n",
      "\u001b[1;31mTypeError\u001b[0m: unsupported operand type(s) for -: 'str' and 'str'"
     ]
    }
   ],
   "source": [
    "# Group by client id to calculate the scores\n",
    "df_grouped = df.groupby('id').apply(calculate_credit_score).reset_index(name='credit_score')"
   ]
  },
  {
   "cell_type": "code",
   "execution_count": 25,
   "id": "63b5fcd0-8b3e-42b1-9784-1cc02a34234c",
   "metadata": {},
   "outputs": [],
   "source": [
    "import pandas as pd\n",
    "import numpy as np\n",
    "import networkx as nx\n",
    "import matplotlib.pyplot as plt\n",
    "\n",
    "# Sample data generation\n",
    "np.random.seed(42)\n",
    "data_size = 100\n",
    "\n",
    "# Generating the dataset\n",
    "df = pd.DataFrame({\n",
    "    'id': np.random.randint(1, 21, data_size),\n",
    "    'month': np.random.randint(1, 13, data_size),\n",
    "    'active_status': np.random.choice([True, False], data_size),\n",
    "    'location': np.random.choice(['Location1', 'Location2', 'Location3', 'Location4'], data_size),\n",
    "    'MFI': np.random.choice(['MFI1', 'MFI2', 'MFI3', 'MFI4'], data_size)\n",
    "})\n",
    "\n"
   ]
  },
  {
   "cell_type": "code",
   "execution_count": 29,
   "id": "356c7767-92ea-4e92-a3ea-742665c61fdf",
   "metadata": {},
   "outputs": [],
   "source": [
    "# Define weights and penalties\n",
    "active_status_weight = 10\n",
    "location_change_penalty = 5\n",
    "mfi_penalty = 3"
   ]
  },
  {
   "cell_type": "code",
   "execution_count": 31,
   "id": "6dc51872-454f-461a-8b80-93bf4feae790",
   "metadata": {},
   "outputs": [],
   "source": [
    "# Calculate credit score function\n",
    "def calculate_credit_score(group):\n",
    "    score = 0\n",
    "    active_months = group['active_status'].sum()\n",
    "    \n",
    "    # Rule: The longer the active status, the better.\n",
    "    score += active_months * active_status_weight\n",
    "    \n",
    "    # Rule: Location changes in one MFI more than 2 times in a year.\n",
    "    location_change_penalty_score = 0\n",
    "    for mfi, mfi_group in group.groupby('MFI'):\n",
    "        location_changes = (mfi_group['location'] != mfi_group['location'].shift()).sum() - 1\n",
    "        if location_changes > 2:\n",
    "            location_change_penalty_score += location_change_penalty\n",
    "    \n",
    "    score -= location_change_penalty_score\n",
    "    \n",
    "    # Rule: Borrowing from multiple MFIs\n",
    "    mfi_penalty_score = 0\n",
    "    mfi_counts = group['MFI'].nunique()\n",
    "    if mfi_counts > 1:\n",
    "        mfi_penalty_score += (mfi_counts - 1) * mfi_penalty\n",
    "    \n",
    "    score -= mfi_penalty_score\n",
    "    \n",
    "    return pd.Series({'credit_score': score})"
   ]
  },
  {
   "cell_type": "code",
   "execution_count": 32,
   "id": "22222c08-e462-4551-b371-4d2049f4db7a",
   "metadata": {},
   "outputs": [
    {
     "name": "stderr",
     "output_type": "stream",
     "text": [
      "C:\\Users\\Ei Nghon Phoo\\AppData\\Local\\Temp\\ipykernel_25588\\1558111410.py:2: DeprecationWarning: DataFrameGroupBy.apply operated on the grouping columns. This behavior is deprecated, and in a future version of pandas the grouping columns will be excluded from the operation. Either pass `include_groups=False` to exclude the groupings or explicitly select the grouping columns after groupby to silence this warning.\n",
      "  df_scores = df.groupby('id').apply(calculate_credit_score).reset_index()\n"
     ]
    }
   ],
   "source": [
    "# Group by client id to calculate the scores\n",
    "df_scores = df.groupby('id').apply(calculate_credit_score).reset_index()"
   ]
  },
  {
   "cell_type": "code",
   "execution_count": 35,
   "id": "9faa5271-2228-4f9e-b7b9-f5f59177bd7b",
   "metadata": {},
   "outputs": [
    {
     "name": "stdout",
     "output_type": "stream",
     "text": [
      "4 31\n"
     ]
    }
   ],
   "source": [
    "# Normalize the scores to a range between 0 and 50\n",
    "min_score = df_scores['credit_score'].min()\n",
    "max_score = df_scores['credit_score'].max()\n",
    "print(min_score, max_score)"
   ]
  },
  {
   "cell_type": "code",
   "execution_count": 37,
   "id": "01252b20-76ff-4241-be20-7e8464fdfee2",
   "metadata": {},
   "outputs": [],
   "source": [
    "df_scores['normalized_score'] = (df_scores['credit_score'] - min_score) / (max_score - min_score) * 50\n"
   ]
  },
  {
   "cell_type": "code",
   "execution_count": 39,
   "id": "6928e8bc-5907-4209-9345-189de5a035cb",
   "metadata": {},
   "outputs": [
    {
     "name": "stdout",
     "output_type": "stream",
     "text": [
      "    id  credit_score  normalized_score\n",
      "0    1            21         31.481481\n",
      "1    2             4          0.000000\n",
      "2    3            27         42.592593\n",
      "3    4            17         24.074074\n",
      "4    5             4          0.000000\n",
      "5    6             7          5.555556\n",
      "6    7            21         31.481481\n",
      "7    8            31         50.000000\n",
      "8    9            21         31.481481\n",
      "9   10            24         37.037037\n",
      "10  11            14         18.518519\n",
      "11  12            31         50.000000\n",
      "12  13             7          5.555556\n",
      "13  14            14         18.518519\n",
      "14  15            29         46.296296\n",
      "15  16            11         12.962963\n",
      "16  17            14         18.518519\n",
      "17  18            14         18.518519\n",
      "18  19            17         24.074074\n",
      "19  20            17         24.074074\n"
     ]
    }
   ],
   "source": [
    "print(df_scores)\n"
   ]
  },
  {
   "cell_type": "markdown",
   "id": "fcb1c339-a01b-43c5-81ac-9f9e2491d917",
   "metadata": {},
   "source": [
    "### EDA for active loans in MFIS"
   ]
  },
  {
   "cell_type": "code",
   "execution_count": 42,
   "id": "27861284-01e4-4088-b172-f016a172cb36",
   "metadata": {},
   "outputs": [
    {
     "data": {
      "image/png": "[encoded data removed]",
      "text/plain": [
       "<Figure size 1400x800 with 1 Axes>"
      ]
     },
     "metadata": {},
     "output_type": "display_data"
    }
   ],
   "source": [
    "\n",
    "# Filter active statuses\n",
    "df_active = df[df['active_status']]\n",
    "\n",
    "# Count active MFIs per client per month\n",
    "df_mfi_count = df_active.groupby(['id', 'month'])['MFI'].nunique().reset_index()\n",
    "df_mfi_count.columns = ['id', 'month', 'active_mfi_count']\n",
    "\n",
    "# Ensure all months are represented for each client\n",
    "clients = df['id'].unique()\n",
    "months = np.arange(1, 13)\n",
    "df_all_months = pd.MultiIndex.from_product([clients, months], names=['id', 'month']).to_frame(index=False)\n",
    "df_mfi_count = df_all_months.merge(df_mfi_count, on=['id', 'month'], how='left').fillna(0)\n",
    "\n",
    "# Plot the line chart\n",
    "plt.figure(figsize=(14, 8))\n",
    "\n",
    "for client_id in df['id'].unique():\n",
    "    client_data = df_mfi_count[df_mfi_count['id'] == client_id]\n",
    "    plt.plot(client_data['month'], client_data['active_mfi_count'], label=f'Client {client_id}')\n",
    "\n",
    "plt.xlabel('Month')\n",
    "plt.ylabel('Number of Active MFIs')\n",
    "plt.title('Number of Active MFIs per Client per Month')\n",
    "plt.legend(loc='upper right', bbox_to_anchor=(1.15, 1))\n",
    "plt.grid(True)\n",
    "\n",
    "# Ensure the month scale has 1 month difference between each scale\n",
    "plt.xticks(months)\n",
    "\n",
    "# Set the Y-axis to use whole numbers\n",
    "plt.gca().yaxis.set_major_locator(MaxNLocator(integer=True))\n",
    "\n",
    "plt.show()\n"
   ]
  },
  {
   "cell_type": "code",
   "execution_count": 47,
   "id": "5f29fe59-cbaf-4005-a397-b2e112a942f0",
   "metadata": {},
   "outputs": [
    {
     "name": "stdout",
     "output_type": "stream",
     "text": [
      "\n",
      "Filtered DataFrame:\n",
      "    id  month  active_status   location   MFI\n",
      "2   15      8          False  Location4  MFI3\n",
      "22  15      1           True  Location4  MFI2\n",
      "23  15      4          False  Location1  MFI2\n",
      "40  15     12           True  Location3  MFI4\n",
      "44  15      4           True  Location2  MFI3\n",
      "63  15      9           True  Location1  MFI3\n",
      "70  15     11          False  Location4  MFI2\n",
      "73  15      9          False  Location1  MFI2\n"
     ]
    }
   ],
   "source": [
    "# Apply filter\n",
    "filtered_df = df[(df['id'] == 15)]\n",
    "\n",
    "print(\"\\nFiltered DataFrame:\")\n",
    "print(filtered_df)\n"
   ]
  },
  {
   "cell_type": "code",
   "execution_count": 46,
   "id": "7fa975e9-309e-466a-a67c-fff9c2edf851",
   "metadata": {},
   "outputs": [
    {
     "name": "stdout",
     "output_type": "stream",
     "text": [
      "    id  credit_score   score_calculation\n",
      "0    1            21  (3*10)+(0*5)-(3*3)\n",
      "1    2             4  (1*10)+(0*5)-(2*3)\n",
      "2    3            27  (3*10)+(0*5)-(1*3)\n",
      "3    4            17  (2*10)+(0*5)-(1*3)\n",
      "4    5             4  (1*10)+(0*5)-(2*3)\n",
      "5    6             7  (1*10)+(0*5)-(1*3)\n",
      "6    7            21  (3*10)+(0*5)-(3*3)\n",
      "7    8            31  (4*10)+(0*5)-(3*3)\n",
      "8    9            21  (3*10)+(0*5)-(3*3)\n",
      "9   10            24  (3*10)+(0*5)-(2*3)\n",
      "10  11            14  (2*10)+(0*5)-(2*3)\n",
      "11  12            31  (4*10)+(0*5)-(3*3)\n",
      "12  13             7  (1*10)+(0*5)-(1*3)\n",
      "13  14            14  (2*10)+(0*5)-(2*3)\n",
      "14  15            29  (4*10)+(1*5)-(2*3)\n",
      "15  16            11  (2*10)+(0*5)-(3*3)\n",
      "16  17            14  (2*10)+(0*5)-(2*3)\n",
      "17  18            14  (2*10)+(0*5)-(2*3)\n",
      "18  19            17  (2*10)+(0*5)-(1*3)\n",
      "19  20            17  (2*10)+(0*5)-(1*3)\n"
     ]
    },
    {
     "name": "stderr",
     "output_type": "stream",
     "text": [
      "C:\\Users\\Ei Nghon Phoo\\AppData\\Local\\Temp\\ipykernel_25588\\4153782885.py:53: DeprecationWarning: DataFrameGroupBy.apply operated on the grouping columns. This behavior is deprecated, and in a future version of pandas the grouping columns will be excluded from the operation. Either pass `include_groups=False` to exclude the groupings or explicitly select the grouping columns after groupby to silence this warning.\n",
      "  df_grouped = df.groupby('id').apply(calculate_credit_score).reset_index()\n"
     ]
    }
   ],
   "source": [
    "import pandas as pd\n",
    "import numpy as np\n",
    "\n",
    "# Assuming these weights and penalties are defined\n",
    "active_status_weight = 10\n",
    "location_change_penalty = 5\n",
    "mfi_penalty = 3\n",
    "\n",
    "# Calculate credit score function\n",
    "def calculate_credit_score(group):\n",
    "    score = 0\n",
    "    active_months = group['active_status'].sum()\n",
    "    \n",
    "    # Rule: The longer the active status, the better.\n",
    "    active_status_score = active_months * active_status_weight\n",
    "    score += active_status_score\n",
    "    \n",
    "    # Rule: Location changes in one MFI more than 2 times in a year.\n",
    "    location_change_penalty_score = 0\n",
    "    for mfi, mfi_group in group.groupby('MFI'):\n",
    "        location_changes = (mfi_group['location'] != mfi_group['location'].shift()).sum() - 1\n",
    "        if location_changes > 2:\n",
    "            location_change_penalty_score += location_change_penalty\n",
    "    \n",
    "    score -= location_change_penalty_score\n",
    "    \n",
    "    # Rule: Borrowing from multiple MFIs\n",
    "    mfi_penalty_score = 0\n",
    "    mfi_counts = group['MFI'].nunique()\n",
    "    if mfi_counts > 1:\n",
    "        mfi_penalty_score += (mfi_counts - 1) * mfi_penalty\n",
    "    \n",
    "    score -= mfi_penalty_score\n",
    "    \n",
    "    # Creating the score calculation detail string\n",
    "    calculation_detail = f\"({active_months}*{active_status_weight})+({0 if location_change_penalty_score == 0 else location_change_penalty_score // location_change_penalty}*{location_change_penalty})-({0 if mfi_penalty_score == 0 else (mfi_penalty_score // mfi_penalty)}*{mfi_penalty})\"\n",
    "    \n",
    "    return pd.Series({'credit_score': score, 'score_calculation': calculation_detail})\n",
    "\n",
    "# Example DataFrame\n",
    "np.random.seed(42)\n",
    "data_size = 100\n",
    "\n",
    "df = pd.DataFrame({\n",
    "    'id': np.random.randint(1, 21, data_size),\n",
    "    'month': np.random.randint(1, 13, data_size),\n",
    "    'active_status': np.random.choice([True, False], data_size),\n",
    "    'location': np.random.choice(['Location1', 'Location2', 'Location3', 'Location4'], data_size),\n",
    "    'MFI': np.random.choice(['MFI1', 'MFI2', 'MFI3', 'MFI4'], data_size)\n",
    "})\n",
    "\n",
    "# Group by 'id' and apply the calculate_credit_score function\n",
    "df_grouped = df.groupby('id').apply(calculate_credit_score).reset_index()\n",
    "\n",
    "print(df_grouped)\n"
   ]
  },
  {
   "cell_type": "code",
   "execution_count": 100,
   "id": "461ef9f4-189c-4147-99b6-5fcb1f3601de",
   "metadata": {},
   "outputs": [
    {
     "name": "stdout",
     "output_type": "stream",
     "text": [
      "   client_id  credit_score                score_calculation\n",
      "0          1           520  500+(3*10)-(0*5)-(0*3)-(10)+(0)\n",
      "1          6           490  500+(1*10)-(0*5)-(0*3)-(20)+(0)\n"
     ]
    },
    {
     "name": "stderr",
     "output_type": "stream",
     "text": [
      "C:\\Users\\Ei Nghon Phoo\\AppData\\Local\\Temp\\ipykernel_25588\\533997506.py:125: DeprecationWarning: DataFrameGroupBy.apply operated on the grouping columns. This behavior is deprecated, and in a future version of pandas the grouping columns will be excluded from the operation. Either pass `include_groups=False` to exclude the groupings or explicitly select the grouping columns after groupby to silence this warning.\n",
      "  df_grouped = df_active.groupby('client_id').apply(calculate_credit_score).reset_index()\n"
     ]
    }
   ],
   "source": [
    "import pandas as pd\n",
    "import numpy as np\n",
    "\n",
    "# Constants\n",
    "active_status_weight = 10\n",
    "location_change_penalty = 5\n",
    "mfi_penalty = 3\n",
    "delay_penalties = {\n",
    "    '0-10': 3,\n",
    "    '11-30': 5,\n",
    "    '30-60': 7,\n",
    "    '61-90': 10,\n",
    "    '91>': 15\n",
    "}\n",
    "loan_scenario_scores = {\n",
    "    'matured': 20,\n",
    "    'PAR': -10,\n",
    "    'write_off': -30\n",
    "}\n",
    "\n",
    "# Generate random loan term lengths between 8 to 20 months\n",
    "np.random.seed(42)\n",
    "data_size = 1000\n",
    "loan_ids = np.random.randint(1, 21, data_size)\n",
    "loan_terms = np.random.randint(8, 21, data_size)\n",
    "\n",
    "# Create DataFrame\n",
    "df = pd.DataFrame({\n",
    "    'loan_id': loan_ids,\n",
    "    'client_id': np.random.randint(1, 7, data_size),\n",
    "    'month': np.random.randint(1, 13, data_size),\n",
    "    'year': np.random.randint(2020, 2023, data_size),\n",
    "    'active_status': np.random.choice([True], data_size),  # All records have active_status=True\n",
    "    'location': np.random.choice(['Location1', 'Location2', 'Location3', 'Location4'], data_size),\n",
    "    'days_in_delay': np.random.choice(['no delay', '0-10', '11-30', '30-60', '61-90', '91>'], data_size),\n",
    "    'loan_scenario': np.random.choice(['matured', 'PAR', 'write_off', ''], data_size),\n",
    "    'loan_term': loan_terms\n",
    "})\n",
    "\n",
    "# Assign consistent MFI for each loan_id\n",
    "mfi_choices = ['MFI1', 'MFI2', 'MFI3', 'MFI4']\n",
    "mfi_map = {loan_id: np.random.choice(mfi_choices) for loan_id in df['loan_id'].unique()}\n",
    "df['MFI'] = df['loan_id'].map(mfi_map)\n",
    "\n",
    "# Ensure the loan scenario is only at the end of the loan term\n",
    "df['loan_scenario'] = df.apply(lambda x: x['loan_scenario'] if x['month'] == x['loan_term'] else '', axis=1)\n",
    "\n",
    "# Remove rows where the borrower changes locations within the same month for the same loan\n",
    "df = df.sort_values(by=['loan_id', 'client_id', 'year', 'month'])\n",
    "df = df[~df.duplicated(subset=['loan_id', 'year', 'month', 'client_id', 'location'], keep='first')]\n",
    "\n",
    "# Calculate location changes and cumulative counts\n",
    "def calculate_location_changes(df):\n",
    "    df['location_change'] = (df['location'] != df.groupby(['loan_id', 'client_id', 'year', 'MFI'])['location'].shift()).astype(int)\n",
    "    df['location_change_count'] = df.groupby(['loan_id', 'client_id', 'year', 'MFI'])['location_change'].cumsum()\n",
    "    return df\n",
    "\n",
    "df = calculate_location_changes(df)\n",
    "\n",
    "# Filter out records where location changes exceed the allowed limit\n",
    "def filter_location_changes(df):\n",
    "    valid_records = []\n",
    "    for (client_id, mfi, year), group in df.groupby(['client_id', 'MFI', 'year']):\n",
    "        if group['location_change'].sum() <= 3:\n",
    "            valid_records.append(group)\n",
    "    return pd.concat(valid_records)\n",
    "\n",
    "df_filtered = filter_location_changes(df)\n",
    "\n",
    "# Calculate credit score function\n",
    "def calculate_credit_score(group):\n",
    "    initial_score = 500\n",
    "    score = initial_score\n",
    "    \n",
    "    # Rule: Active status score (count each month once)\n",
    "    active_months = group.groupby(['month', 'year'])['active_status'].sum().clip(upper=1).sum()\n",
    "    active_status_score = active_months * active_status_weight\n",
    "    score += active_status_score\n",
    "    \n",
    "    # Rule: Location changes in one MFI more than 3 times in a year\n",
    "    location_change_penalty_score = 0\n",
    "    for mfi, mfi_group in group.groupby('MFI'):\n",
    "        location_changes = (mfi_group['location'] != mfi_group['location'].shift()).sum()\n",
    "        if location_changes > 3:\n",
    "            location_change_penalty_score += (location_changes - 3) * location_change_penalty\n",
    "    \n",
    "    score -= location_change_penalty_score\n",
    "    \n",
    "    # Rule: Borrowing from multiple MFIs\n",
    "    mfi_penalty_score = 0\n",
    "    mfi_counts = group['MFI'].nunique()\n",
    "    if mfi_counts > 1:\n",
    "        mfi_penalty_score += (mfi_counts - 1) * mfi_penalty\n",
    "    \n",
    "    score -= mfi_penalty_score\n",
    "    \n",
    "    # Rule: Penalty for delays in loan repayment\n",
    "    delay_penalty_score = 0\n",
    "    for delay_range, penalty in delay_penalties.items():\n",
    "        delay_count = group[group['days_in_delay'] == delay_range].shape[0]\n",
    "        delay_penalty_score += delay_count * penalty\n",
    "    \n",
    "    score -= delay_penalty_score\n",
    "    \n",
    "    # Rule: Loan scenario at the end of the loan term\n",
    "    loan_scenario_score = 0\n",
    "    for scenario, penalty in loan_scenario_scores.items():\n",
    "        scenario_count = group[(group['loan_scenario'] == scenario) & (group['month'] == group['loan_term'])].shape[0]\n",
    "        loan_scenario_score += scenario_count * penalty\n",
    "    \n",
    "    score += loan_scenario_score\n",
    "    \n",
    "    # Creating the score calculation detail string\n",
    "    calculation_detail = (f\"{initial_score}+({active_months}*{active_status_weight})\"\n",
    "                          f\"-({location_change_penalty_score // location_change_penalty}*{location_change_penalty})\"\n",
    "                          f\"-({mfi_penalty_score // mfi_penalty}*{mfi_penalty})\"\n",
    "                          f\"-({delay_penalty_score})+({loan_scenario_score})\")\n",
    "    \n",
    "    return pd.Series({'credit_score': score, 'score_calculation': calculation_detail})\n",
    "\n",
    "# Filter only active status records\n",
    "df_active = df_filtered[df_filtered['active_status'] == True]\n",
    "\n",
    "# Group by 'client_id' and apply the calculate_credit_score function\n",
    "df_grouped = df_active.groupby('client_id').apply(calculate_credit_score).reset_index()\n",
    "\n",
    "print(df_grouped)\n"
   ]
  },
  {
   "cell_type": "code",
   "execution_count": 98,
   "id": "9066e6db-56aa-42c2-b020-675643dbf12b",
   "metadata": {},
   "outputs": [
    {
     "name": "stdout",
     "output_type": "stream",
     "text": [
      "\n",
      "Filtered DataFrame:\n",
      "     loan_id  client_id  month  year  active_status   location days_in_delay  \\\n",
      "790        4          1      4  2022           True  Location1      no delay   \n",
      "254        4          1      6  2022           True  Location4         30-60   \n",
      "637        4          1      7  2022           True  Location2          0-10   \n",
      "\n",
      "    loan_scenario  loan_term   MFI  location_change  location_change_count  \n",
      "790                       15  MFI3                1                      1  \n",
      "254                       18  MFI3                1                      2  \n",
      "637                       11  MFI3                1                      3  \n"
     ]
    }
   ],
   "source": [
    "filtered_df = df_active[(df_active['client_id'] == 1)]\n",
    "\n",
    "print(\"\\nFiltered DataFrame:\")\n",
    "print(filtered_df)\n"
   ]
  },
  {
   "cell_type": "code",
   "execution_count": 94,
   "id": "e78ba3d2-f798-4fc8-bf92-56abbc0a7e46",
   "metadata": {},
   "outputs": [
    {
     "name": "stdout",
     "output_type": "stream",
     "text": [
      "Exported the dataframe to 'credit_scores_sample_data.csv'\n"
     ]
    }
   ],
   "source": [
    "filtered_df.to_csv('credit_scores_sample_data3.csv', index=False)\n",
    "\n",
    "print(\"Exported the dataframe to 'credit_scores_sample_data.csv'\")"
   ]
  },
  {
   "cell_type": "code",
   "execution_count": 83,
   "id": "3f5fdaf1-03bd-4e43-8d7a-6ff6836ff3d0",
   "metadata": {},
   "outputs": [
    {
     "data": {
      "text/html": [
       "<div>\n",
       "<style scoped>\n",
       "    .dataframe tbody tr th:only-of-type {\n",
       "        vertical-align: middle;\n",
       "    }\n",
       "\n",
       "    .dataframe tbody tr th {\n",
       "        vertical-align: top;\n",
       "    }\n",
       "\n",
       "    .dataframe thead th {\n",
       "        text-align: right;\n",
       "    }\n",
       "</style>\n",
       "<table border=\"1\" class=\"dataframe\">\n",
       "  <thead>\n",
       "    <tr style=\"text-align: right;\">\n",
       "      <th></th>\n",
       "      <th>client_id</th>\n",
       "      <th>credit_score</th>\n",
       "      <th>score_calculation</th>\n",
       "    </tr>\n",
       "  </thead>\n",
       "  <tbody>\n",
       "    <tr>\n",
       "      <th>0</th>\n",
       "      <td>1</td>\n",
       "      <td>-811</td>\n",
       "      <td>500+(36*10)-(112*5)-(3*3)-(1082)+(-20)</td>\n",
       "    </tr>\n",
       "    <tr>\n",
       "      <th>1</th>\n",
       "      <td>2</td>\n",
       "      <td>-901</td>\n",
       "      <td>500+(36*10)-(121*5)-(3*3)-(1107)+(-40)</td>\n",
       "    </tr>\n",
       "    <tr>\n",
       "      <th>2</th>\n",
       "      <td>3</td>\n",
       "      <td>-602</td>\n",
       "      <td>500+(35*10)-(99*5)-(3*3)-(928)+(-20)</td>\n",
       "    </tr>\n",
       "    <tr>\n",
       "      <th>3</th>\n",
       "      <td>4</td>\n",
       "      <td>-1093</td>\n",
       "      <td>500+(34*10)-(128*5)-(3*3)-(1234)+(-50)</td>\n",
       "    </tr>\n",
       "    <tr>\n",
       "      <th>4</th>\n",
       "      <td>5</td>\n",
       "      <td>-908</td>\n",
       "      <td>500+(35*10)-(114*5)-(3*3)-(1119)+(-60)</td>\n",
       "    </tr>\n",
       "    <tr>\n",
       "      <th>5</th>\n",
       "      <td>6</td>\n",
       "      <td>-828</td>\n",
       "      <td>500+(36*10)-(117*5)-(3*3)-(1044)+(-50)</td>\n",
       "    </tr>\n",
       "  </tbody>\n",
       "</table>\n",
       "</div>"
      ],
      "text/plain": [
       "   client_id  credit_score                       score_calculation\n",
       "0          1          -811  500+(36*10)-(112*5)-(3*3)-(1082)+(-20)\n",
       "1          2          -901  500+(36*10)-(121*5)-(3*3)-(1107)+(-40)\n",
       "2          3          -602    500+(35*10)-(99*5)-(3*3)-(928)+(-20)\n",
       "3          4         -1093  500+(34*10)-(128*5)-(3*3)-(1234)+(-50)\n",
       "4          5          -908  500+(35*10)-(114*5)-(3*3)-(1119)+(-60)\n",
       "5          6          -828  500+(36*10)-(117*5)-(3*3)-(1044)+(-50)"
      ]
     },
     "execution_count": 83,
     "metadata": {},
     "output_type": "execute_result"
    }
   ],
   "source": [
    "df_grouped.head(10)"
   ]
  },
  {
   "cell_type": "code",
   "execution_count": 1,
   "id": "372a32d9-295c-4b48-831d-2cc10a67e865",
   "metadata": {},
   "outputs": [
    {
     "data": {
      "application/vnd.jupyter.widget-view+json": {
       "model_id": "dfe7cefb9cb84e7695325f92f465c8df",
       "version_major": 2,
       "version_minor": 0
      },
      "text/plain": [
       "FileUpload(value=(), accept='.csv', description='Upload')"
      ]
     },
     "metadata": {},
     "output_type": "display_data"
    },
    {
     "data": {
      "application/vnd.jupyter.widget-view+json": {
       "model_id": "eafefbb5a7724e0b87a7ff35cd4a4046",
       "version_major": 2,
       "version_minor": 0
      },
      "text/plain": [
       "Output()"
      ]
     },
     "metadata": {},
     "output_type": "display_data"
    }
   ],
   "source": [
    "import pandas as pd\n",
    "import ipywidgets as widgets\n",
    "from IPython.display import display, HTML\n",
    "\n",
    "# Create file upload widget\n",
    "file_upload = widgets.FileUpload(\n",
    "    accept='.csv',\n",
    "    multiple=False\n",
    ")\n",
    "\n",
    "# Create output widget for displaying results\n",
    "output = widgets.Output()\n",
    "\n",
    "# Function to process the uploaded file\n",
    "def process_file(change):\n",
    "    with output:\n",
    "        output.clear_output()\n",
    "        if file_upload.value:\n",
    "            # Read the uploaded file\n",
    "            content = file_upload.value[0]['content']\n",
    "            df = pd.read_csv(pd.compat.StringIO(content.decode('utf-8')))\n",
    "            \n",
    "            # Perform calculation\n",
    "            if 'amount' in df.columns:\n",
    "                df['calculated_amount'] = 45 * df['amount']\n",
    "            \n",
    "            # Display the result as an HTML table\n",
    "            display(HTML(df.to_html()))\n",
    "        else:\n",
    "            print(\"No file uploaded\")\n",
    "\n",
    "# Attach the function to the file upload widget\n",
    "file_upload.observe(process_file, names='value')\n",
    "\n",
    "# Display the widgets\n",
    "display(file_upload, output)\n"
   ]
  },
  {
   "cell_type": "code",
   "execution_count": 2,
   "id": "667f03b2-743f-4bc3-8541-f6dbf921c0b9",
   "metadata": {},
   "outputs": [
    {
     "name": "stdout",
     "output_type": "stream",
     "text": [
      "Requirement already satisfied: ipywidgets in d:\\app_installations\\anaconda\\lib\\site-packages (7.8.1)\n",
      "Collecting ipywidgets\n",
      "  Downloading ipywidgets-8.1.3-py3-none-any.whl.metadata (2.4 kB)\n",
      "Requirement already satisfied: jupyter in d:\\app_installations\\anaconda\\lib\\site-packages (1.0.0)\n",
      "Requirement already satisfied: comm>=0.1.3 in d:\\app_installations\\anaconda\\lib\\site-packages (from ipywidgets) (0.2.1)\n",
      "Requirement already satisfied: ipython>=6.1.0 in d:\\app_installations\\anaconda\\lib\\site-packages (from ipywidgets) (8.25.0)\n",
      "Requirement already satisfied: traitlets>=4.3.1 in d:\\app_installations\\anaconda\\lib\\site-packages (from ipywidgets) (5.14.3)\n",
      "Collecting widgetsnbextension~=4.0.11 (from ipywidgets)\n",
      "  Downloading widgetsnbextension-4.0.11-py3-none-any.whl.metadata (1.6 kB)\n",
      "Collecting jupyterlab-widgets~=3.0.11 (from ipywidgets)\n",
      "  Downloading jupyterlab_widgets-3.0.11-py3-none-any.whl.metadata (4.1 kB)\n",
      "Requirement already satisfied: notebook in d:\\app_installations\\anaconda\\lib\\site-packages (from jupyter) (7.0.8)\n",
      "Requirement already satisfied: qtconsole in d:\\app_installations\\anaconda\\lib\\site-packages (from jupyter) (5.5.1)\n",
      "Requirement already satisfied: jupyter-console in d:\\app_installations\\anaconda\\lib\\site-packages (from jupyter) (6.6.3)\n",
      "Requirement already satisfied: nbconvert in d:\\app_installations\\anaconda\\lib\\site-packages (from jupyter) (7.10.0)\n",
      "Requirement already satisfied: ipykernel in d:\\app_installations\\anaconda\\lib\\site-packages (from jupyter) (6.28.0)\n",
      "Requirement already satisfied: decorator in d:\\app_installations\\anaconda\\lib\\site-packages (from ipython>=6.1.0->ipywidgets) (5.1.1)\n",
      "Requirement already satisfied: jedi>=0.16 in d:\\app_installations\\anaconda\\lib\\site-packages (from ipython>=6.1.0->ipywidgets) (0.18.1)\n",
      "Requirement already satisfied: matplotlib-inline in d:\\app_installations\\anaconda\\lib\\site-packages (from ipython>=6.1.0->ipywidgets) (0.1.6)\n",
      "Requirement already satisfied: prompt-toolkit<3.1.0,>=3.0.41 in d:\\app_installations\\anaconda\\lib\\site-packages (from ipython>=6.1.0->ipywidgets) (3.0.43)\n",
      "Requirement already satisfied: pygments>=2.4.0 in d:\\app_installations\\anaconda\\lib\\site-packages (from ipython>=6.1.0->ipywidgets) (2.15.1)\n",
      "Requirement already satisfied: stack-data in d:\\app_installations\\anaconda\\lib\\site-packages (from ipython>=6.1.0->ipywidgets) (0.2.0)\n",
      "Requirement already satisfied: colorama in d:\\app_installations\\anaconda\\lib\\site-packages (from ipython>=6.1.0->ipywidgets) (0.4.6)\n",
      "Requirement already satisfied: debugpy>=1.6.5 in d:\\app_installations\\anaconda\\lib\\site-packages (from ipykernel->jupyter) (1.6.7)\n",
      "Requirement already satisfied: jupyter-client>=6.1.12 in d:\\app_installations\\anaconda\\lib\\site-packages (from ipykernel->jupyter) (8.6.0)\n",
      "Requirement already satisfied: jupyter-core!=5.0.*,>=4.12 in d:\\app_installations\\anaconda\\lib\\site-packages (from ipykernel->jupyter) (5.7.2)\n",
      "Requirement already satisfied: nest-asyncio in d:\\app_installations\\anaconda\\lib\\site-packages (from ipykernel->jupyter) (1.6.0)\n",
      "Requirement already satisfied: packaging in d:\\app_installations\\anaconda\\lib\\site-packages (from ipykernel->jupyter) (23.2)\n",
      "Requirement already satisfied: psutil in d:\\app_installations\\anaconda\\lib\\site-packages (from ipykernel->jupyter) (5.9.0)\n",
      "Requirement already satisfied: pyzmq>=24 in d:\\app_installations\\anaconda\\lib\\site-packages (from ipykernel->jupyter) (25.1.2)\n",
      "Requirement already satisfied: tornado>=6.1 in d:\\app_installations\\anaconda\\lib\\site-packages (from ipykernel->jupyter) (6.4.1)\n",
      "Requirement already satisfied: beautifulsoup4 in d:\\app_installations\\anaconda\\lib\\site-packages (from nbconvert->jupyter) (4.12.3)\n",
      "Requirement already satisfied: bleach!=5.0.0 in d:\\app_installations\\anaconda\\lib\\site-packages (from nbconvert->jupyter) (4.1.0)\n",
      "Requirement already satisfied: defusedxml in d:\\app_installations\\anaconda\\lib\\site-packages (from nbconvert->jupyter) (0.7.1)\n",
      "Requirement already satisfied: jinja2>=3.0 in d:\\app_installations\\anaconda\\lib\\site-packages (from nbconvert->jupyter) (3.1.4)\n",
      "Requirement already satisfied: jupyterlab-pygments in d:\\app_installations\\anaconda\\lib\\site-packages (from nbconvert->jupyter) (0.1.2)\n",
      "Requirement already satisfied: markupsafe>=2.0 in d:\\app_installations\\anaconda\\lib\\site-packages (from nbconvert->jupyter) (2.1.3)\n",
      "Requirement already satisfied: mistune<4,>=2.0.3 in d:\\app_installations\\anaconda\\lib\\site-packages (from nbconvert->jupyter) (2.0.4)\n",
      "Requirement already satisfied: nbclient>=0.5.0 in d:\\app_installations\\anaconda\\lib\\site-packages (from nbconvert->jupyter) (0.8.0)\n",
      "Requirement already satisfied: nbformat>=5.7 in d:\\app_installations\\anaconda\\lib\\site-packages (from nbconvert->jupyter) (5.9.2)\n",
      "Requirement already satisfied: pandocfilters>=1.4.1 in d:\\app_installations\\anaconda\\lib\\site-packages (from nbconvert->jupyter) (1.5.0)\n",
      "Requirement already satisfied: tinycss2 in d:\\app_installations\\anaconda\\lib\\site-packages (from nbconvert->jupyter) (1.2.1)\n",
      "Requirement already satisfied: jupyter-server<3,>=2.4.0 in d:\\app_installations\\anaconda\\lib\\site-packages (from notebook->jupyter) (2.14.1)\n",
      "Requirement already satisfied: jupyterlab-server<3,>=2.22.1 in d:\\app_installations\\anaconda\\lib\\site-packages (from notebook->jupyter) (2.25.1)\n",
      "Requirement already satisfied: jupyterlab<4.1,>=4.0.2 in d:\\app_installations\\anaconda\\lib\\site-packages (from notebook->jupyter) (4.0.11)\n",
      "Requirement already satisfied: notebook-shim<0.3,>=0.2 in d:\\app_installations\\anaconda\\lib\\site-packages (from notebook->jupyter) (0.2.3)\n",
      "Requirement already satisfied: qtpy>=2.4.0 in d:\\app_installations\\anaconda\\lib\\site-packages (from qtconsole->jupyter) (2.4.1)\n",
      "Requirement already satisfied: six>=1.9.0 in d:\\app_installations\\anaconda\\lib\\site-packages (from bleach!=5.0.0->nbconvert->jupyter) (1.16.0)\n",
      "Requirement already satisfied: webencodings in d:\\app_installations\\anaconda\\lib\\site-packages (from bleach!=5.0.0->nbconvert->jupyter) (0.5.1)\n",
      "Requirement already satisfied: parso<0.9.0,>=0.8.0 in d:\\app_installations\\anaconda\\lib\\site-packages (from jedi>=0.16->ipython>=6.1.0->ipywidgets) (0.8.3)\n",
      "Requirement already satisfied: python-dateutil>=2.8.2 in d:\\app_installations\\anaconda\\lib\\site-packages (from jupyter-client>=6.1.12->ipykernel->jupyter) (2.9.0.post0)\n",
      "Requirement already satisfied: platformdirs>=2.5 in d:\\app_installations\\anaconda\\lib\\site-packages (from jupyter-core!=5.0.*,>=4.12->ipykernel->jupyter) (3.10.0)\n",
      "Requirement already satisfied: pywin32>=300 in d:\\app_installations\\anaconda\\lib\\site-packages (from jupyter-core!=5.0.*,>=4.12->ipykernel->jupyter) (305.1)\n",
      "Requirement already satisfied: anyio>=3.1.0 in d:\\app_installations\\anaconda\\lib\\site-packages (from jupyter-server<3,>=2.4.0->notebook->jupyter) (4.2.0)\n",
      "Requirement already satisfied: argon2-cffi>=21.1 in d:\\app_installations\\anaconda\\lib\\site-packages (from jupyter-server<3,>=2.4.0->notebook->jupyter) (21.3.0)\n",
      "Requirement already satisfied: jupyter-events>=0.9.0 in d:\\app_installations\\anaconda\\lib\\site-packages (from jupyter-server<3,>=2.4.0->notebook->jupyter) (0.10.0)\n",
      "Requirement already satisfied: jupyter-server-terminals>=0.4.4 in d:\\app_installations\\anaconda\\lib\\site-packages (from jupyter-server<3,>=2.4.0->notebook->jupyter) (0.4.4)\n",
      "Requirement already satisfied: overrides>=5.0 in d:\\app_installations\\anaconda\\lib\\site-packages (from jupyter-server<3,>=2.4.0->notebook->jupyter) (7.4.0)\n",
      "Requirement already satisfied: prometheus-client>=0.9 in d:\\app_installations\\anaconda\\lib\\site-packages (from jupyter-server<3,>=2.4.0->notebook->jupyter) (0.14.1)\n",
      "Requirement already satisfied: pywinpty>=2.0.1 in d:\\app_installations\\anaconda\\lib\\site-packages (from jupyter-server<3,>=2.4.0->notebook->jupyter) (2.0.10)\n",
      "Requirement already satisfied: send2trash>=1.8.2 in d:\\app_installations\\anaconda\\lib\\site-packages (from jupyter-server<3,>=2.4.0->notebook->jupyter) (1.8.2)\n",
      "Requirement already satisfied: terminado>=0.8.3 in d:\\app_installations\\anaconda\\lib\\site-packages (from jupyter-server<3,>=2.4.0->notebook->jupyter) (0.17.1)\n",
      "Requirement already satisfied: websocket-client>=1.7 in d:\\app_installations\\anaconda\\lib\\site-packages (from jupyter-server<3,>=2.4.0->notebook->jupyter) (1.8.0)\n",
      "Requirement already satisfied: async-lru>=1.0.0 in d:\\app_installations\\anaconda\\lib\\site-packages (from jupyterlab<4.1,>=4.0.2->notebook->jupyter) (2.0.4)\n",
      "Requirement already satisfied: jupyter-lsp>=2.0.0 in d:\\app_installations\\anaconda\\lib\\site-packages (from jupyterlab<4.1,>=4.0.2->notebook->jupyter) (2.2.0)\n",
      "Requirement already satisfied: babel>=2.10 in d:\\app_installations\\anaconda\\lib\\site-packages (from jupyterlab-server<3,>=2.22.1->notebook->jupyter) (2.11.0)\n",
      "Requirement already satisfied: json5>=0.9.0 in d:\\app_installations\\anaconda\\lib\\site-packages (from jupyterlab-server<3,>=2.22.1->notebook->jupyter) (0.9.6)\n",
      "Requirement already satisfied: jsonschema>=4.18.0 in d:\\app_installations\\anaconda\\lib\\site-packages (from jupyterlab-server<3,>=2.22.1->notebook->jupyter) (4.19.2)\n",
      "Requirement already satisfied: requests>=2.31 in d:\\app_installations\\anaconda\\lib\\site-packages (from jupyterlab-server<3,>=2.22.1->notebook->jupyter) (2.32.2)\n",
      "Requirement already satisfied: fastjsonschema in d:\\app_installations\\anaconda\\lib\\site-packages (from nbformat>=5.7->nbconvert->jupyter) (2.16.2)\n",
      "Requirement already satisfied: wcwidth in d:\\app_installations\\anaconda\\lib\\site-packages (from prompt-toolkit<3.1.0,>=3.0.41->ipython>=6.1.0->ipywidgets) (0.2.5)\n",
      "Requirement already satisfied: soupsieve>1.2 in d:\\app_installations\\anaconda\\lib\\site-packages (from beautifulsoup4->nbconvert->jupyter) (2.5)\n",
      "Requirement already satisfied: executing in d:\\app_installations\\anaconda\\lib\\site-packages (from stack-data->ipython>=6.1.0->ipywidgets) (0.8.3)\n",
      "Requirement already satisfied: asttokens in d:\\app_installations\\anaconda\\lib\\site-packages (from stack-data->ipython>=6.1.0->ipywidgets) (2.0.5)\n",
      "Requirement already satisfied: pure-eval in d:\\app_installations\\anaconda\\lib\\site-packages (from stack-data->ipython>=6.1.0->ipywidgets) (0.2.2)\n",
      "Requirement already satisfied: idna>=2.8 in d:\\app_installations\\anaconda\\lib\\site-packages (from anyio>=3.1.0->jupyter-server<3,>=2.4.0->notebook->jupyter) (3.7)\n",
      "Requirement already satisfied: sniffio>=1.1 in d:\\app_installations\\anaconda\\lib\\site-packages (from anyio>=3.1.0->jupyter-server<3,>=2.4.0->notebook->jupyter) (1.3.0)\n",
      "Requirement already satisfied: argon2-cffi-bindings in d:\\app_installations\\anaconda\\lib\\site-packages (from argon2-cffi>=21.1->jupyter-server<3,>=2.4.0->notebook->jupyter) (21.2.0)\n",
      "Requirement already satisfied: pytz>=2015.7 in d:\\app_installations\\anaconda\\lib\\site-packages (from babel>=2.10->jupyterlab-server<3,>=2.22.1->notebook->jupyter) (2024.1)\n",
      "Requirement already satisfied: attrs>=22.2.0 in d:\\app_installations\\anaconda\\lib\\site-packages (from jsonschema>=4.18.0->jupyterlab-server<3,>=2.22.1->notebook->jupyter) (23.1.0)\n",
      "Requirement already satisfied: jsonschema-specifications>=2023.03.6 in d:\\app_installations\\anaconda\\lib\\site-packages (from jsonschema>=4.18.0->jupyterlab-server<3,>=2.22.1->notebook->jupyter) (2023.7.1)\n",
      "Requirement already satisfied: referencing>=0.28.4 in d:\\app_installations\\anaconda\\lib\\site-packages (from jsonschema>=4.18.0->jupyterlab-server<3,>=2.22.1->notebook->jupyter) (0.30.2)\n",
      "Requirement already satisfied: rpds-py>=0.7.1 in d:\\app_installations\\anaconda\\lib\\site-packages (from jsonschema>=4.18.0->jupyterlab-server<3,>=2.22.1->notebook->jupyter) (0.10.6)\n",
      "Requirement already satisfied: python-json-logger>=2.0.4 in d:\\app_installations\\anaconda\\lib\\site-packages (from jupyter-events>=0.9.0->jupyter-server<3,>=2.4.0->notebook->jupyter) (2.0.7)\n",
      "Requirement already satisfied: pyyaml>=5.3 in d:\\app_installations\\anaconda\\lib\\site-packages (from jupyter-events>=0.9.0->jupyter-server<3,>=2.4.0->notebook->jupyter) (6.0.1)\n",
      "Requirement already satisfied: rfc3339-validator in d:\\app_installations\\anaconda\\lib\\site-packages (from jupyter-events>=0.9.0->jupyter-server<3,>=2.4.0->notebook->jupyter) (0.1.4)\n",
      "Requirement already satisfied: rfc3986-validator>=0.1.1 in d:\\app_installations\\anaconda\\lib\\site-packages (from jupyter-events>=0.9.0->jupyter-server<3,>=2.4.0->notebook->jupyter) (0.1.1)\n",
      "Requirement already satisfied: charset-normalizer<4,>=2 in d:\\app_installations\\anaconda\\lib\\site-packages (from requests>=2.31->jupyterlab-server<3,>=2.22.1->notebook->jupyter) (2.0.4)\n",
      "Requirement already satisfied: urllib3<3,>=1.21.1 in d:\\app_installations\\anaconda\\lib\\site-packages (from requests>=2.31->jupyterlab-server<3,>=2.22.1->notebook->jupyter) (2.2.2)\n",
      "Requirement already satisfied: certifi>=2017.4.17 in d:\\app_installations\\anaconda\\lib\\site-packages (from requests>=2.31->jupyterlab-server<3,>=2.22.1->notebook->jupyter) (2024.6.2)\n",
      "Collecting fqdn (from jsonschema[format-nongpl]>=4.18.0->jupyter-events>=0.9.0->jupyter-server<3,>=2.4.0->notebook->jupyter)\n",
      "  Downloading fqdn-1.5.1-py3-none-any.whl.metadata (1.4 kB)\n",
      "Collecting isoduration (from jsonschema[format-nongpl]>=4.18.0->jupyter-events>=0.9.0->jupyter-server<3,>=2.4.0->notebook->jupyter)\n",
      "  Downloading isoduration-20.11.0-py3-none-any.whl.metadata (5.7 kB)\n",
      "Requirement already satisfied: jsonpointer>1.13 in d:\\app_installations\\anaconda\\lib\\site-packages (from jsonschema[format-nongpl]>=4.18.0->jupyter-events>=0.9.0->jupyter-server<3,>=2.4.0->notebook->jupyter) (2.1)\n",
      "Collecting uri-template (from jsonschema[format-nongpl]>=4.18.0->jupyter-events>=0.9.0->jupyter-server<3,>=2.4.0->notebook->jupyter)\n",
      "  Downloading uri_template-1.3.0-py3-none-any.whl.metadata (8.8 kB)\n",
      "Collecting webcolors>=1.11 (from jsonschema[format-nongpl]>=4.18.0->jupyter-events>=0.9.0->jupyter-server<3,>=2.4.0->notebook->jupyter)\n",
      "  Downloading webcolors-24.6.0-py3-none-any.whl.metadata (2.6 kB)\n",
      "Requirement already satisfied: cffi>=1.0.1 in d:\\app_installations\\anaconda\\lib\\site-packages (from argon2-cffi-bindings->argon2-cffi>=21.1->jupyter-server<3,>=2.4.0->notebook->jupyter) (1.16.0)\n",
      "Requirement already satisfied: pycparser in d:\\app_installations\\anaconda\\lib\\site-packages (from cffi>=1.0.1->argon2-cffi-bindings->argon2-cffi>=21.1->jupyter-server<3,>=2.4.0->notebook->jupyter) (2.21)\n",
      "Requirement already satisfied: arrow>=0.15.0 in d:\\app_installations\\anaconda\\lib\\site-packages (from isoduration->jsonschema[format-nongpl]>=4.18.0->jupyter-events>=0.9.0->jupyter-server<3,>=2.4.0->notebook->jupyter) (1.2.3)\n",
      "Downloading ipywidgets-8.1.3-py3-none-any.whl (139 kB)\n",
      "   ---------------------------------------- 0.0/139.4 kB ? eta -:--:--\n",
      "   -------- ------------------------------ 30.7/139.4 kB 435.7 kB/s eta 0:00:01\n",
      "   ----------------- --------------------- 61.4/139.4 kB 544.7 kB/s eta 0:00:01\n",
      "   ------------------------------------ - 133.1/139.4 kB 871.5 kB/s eta 0:00:01\n",
      "   -------------------------------------- 139.4/139.4 kB 828.0 kB/s eta 0:00:00\n",
      "Downloading jupyterlab_widgets-3.0.11-py3-none-any.whl (214 kB)\n",
      "   ---------------------------------------- 0.0/214.4 kB ? eta -:--:--\n",
      "   ---------------------- ----------------- 122.9/214.4 kB 2.4 MB/s eta 0:00:01\n",
      "   -------------------------------------- - 204.8/214.4 kB 2.5 MB/s eta 0:00:01\n",
      "   ---------------------------------------- 214.4/214.4 kB 1.4 MB/s eta 0:00:00\n",
      "Downloading widgetsnbextension-4.0.11-py3-none-any.whl (2.3 MB)\n",
      "   ---------------------------------------- 0.0/2.3 MB ? eta -:--:--\n",
      "   -- ------------------------------------- 0.2/2.3 MB 4.6 MB/s eta 0:00:01\n",
      "   ---- ----------------------------------- 0.3/2.3 MB 2.8 MB/s eta 0:00:01\n",
      "   ------ --------------------------------- 0.4/2.3 MB 2.5 MB/s eta 0:00:01\n",
      "   -------- ------------------------------- 0.5/2.3 MB 2.5 MB/s eta 0:00:01\n",
      "   --------- ------------------------------ 0.5/2.3 MB 2.3 MB/s eta 0:00:01\n",
      "   ------------ --------------------------- 0.7/2.3 MB 2.5 MB/s eta 0:00:01\n",
      "   -------------- ------------------------- 0.8/2.3 MB 2.5 MB/s eta 0:00:01\n",
      "   ---------------- ----------------------- 1.0/2.3 MB 2.6 MB/s eta 0:00:01\n",
      "   ------------------- -------------------- 1.1/2.3 MB 2.6 MB/s eta 0:00:01\n",
      "   --------------------- ------------------ 1.2/2.3 MB 2.7 MB/s eta 0:00:01\n",
      "   ---------------------- ----------------- 1.3/2.3 MB 2.5 MB/s eta 0:00:01\n",
      "   ----------------------- ---------------- 1.4/2.3 MB 2.5 MB/s eta 0:00:01\n",
      "   -------------------------- ------------- 1.5/2.3 MB 2.5 MB/s eta 0:00:01\n",
      "   ---------------------------- ----------- 1.7/2.3 MB 2.5 MB/s eta 0:00:01\n",
      "   ------------------------------- -------- 1.8/2.3 MB 2.6 MB/s eta 0:00:01\n",
      "   --------------------------------- ------ 2.0/2.3 MB 2.6 MB/s eta 0:00:01\n",
      "   ----------------------------------- ---- 2.1/2.3 MB 2.6 MB/s eta 0:00:01\n",
      "   ------------------------------------- -- 2.2/2.3 MB 2.6 MB/s eta 0:00:01\n",
      "   ---------------------------------------  2.3/2.3 MB 2.6 MB/s eta 0:00:01\n",
      "   ---------------------------------------- 2.3/2.3 MB 2.5 MB/s eta 0:00:00\n",
      "Downloading webcolors-24.6.0-py3-none-any.whl (14 kB)\n",
      "Downloading fqdn-1.5.1-py3-none-any.whl (9.1 kB)\n",
      "Downloading isoduration-20.11.0-py3-none-any.whl (11 kB)\n",
      "Downloading uri_template-1.3.0-py3-none-any.whl (11 kB)\n",
      "Installing collected packages: widgetsnbextension, webcolors, uri-template, jupyterlab-widgets, fqdn, isoduration, ipywidgets\n",
      "  Attempting uninstall: widgetsnbextension\n",
      "    Found existing installation: widgetsnbextension 3.6.6\n",
      "    Uninstalling widgetsnbextension-3.6.6:\n",
      "      Successfully uninstalled widgetsnbextension-3.6.6\n",
      "  Attempting uninstall: jupyterlab-widgets\n",
      "    Found existing installation: jupyterlab-widgets 1.0.0\n",
      "    Uninstalling jupyterlab-widgets-1.0.0:\n",
      "      Successfully uninstalled jupyterlab-widgets-1.0.0\n",
      "  Attempting uninstall: ipywidgets\n",
      "    Found existing installation: ipywidgets 7.8.1\n",
      "    Uninstalling ipywidgets-7.8.1:\n",
      "      Successfully uninstalled ipywidgets-7.8.1\n",
      "Successfully installed fqdn-1.5.1 ipywidgets-8.1.3 isoduration-20.11.0 jupyterlab-widgets-3.0.11 uri-template-1.3.0 webcolors-24.6.0 widgetsnbextension-4.0.11\n",
      "Note: you may need to restart the kernel to use updated packages.\n"
     ]
    }
   ],
   "source": [
    "pip install --upgrade ipywidgets jupyter"
   ]
  },
  {
   "cell_type": "code",
   "execution_count": 3,
   "id": "8207ed2e-8432-492f-8f8f-b3f6a0067571",
   "metadata": {},
   "outputs": [
    {
     "data": {
      "text/html": [
       "<h1>Hello, world!</h1>"
      ],
      "text/plain": [
       "<IPython.core.display.HTML object>"
      ]
     },
     "execution_count": 3,
     "metadata": {},
     "output_type": "execute_result"
    }
   ],
   "source": [
    "from IPython.display import HTML\n",
    "HTML('<h1>creating datasets</h1>')\n"
   ]
  },
  {
   "cell_type": "code",
   "execution_count": 45,
   "id": "90ab036f-e7ff-4ea5-9024-8e871b6d7ebd",
   "metadata": {},
   "outputs": [
    {
     "name": "stdout",
     "output_type": "stream",
     "text": [
      "(40, 4)\n",
      "(80, 4)\n",
      "(30, 4)\n"
     ]
    }
   ],
   "source": [
    "import pandas as pd\n",
    "import numpy as np\n",
    "\n",
    "# Constants\n",
    "num_clients = 5\n",
    "loans_per_client = 2\n",
    "months_first = pd.date_range(start='2023-01-01', end='2023-04-01', freq='MS')\n",
    "months_second = pd.date_range(start='2023-05-01', end='2023-12-01', freq='MS')\n",
    "months_third = pd.date_range(start='2024-01-01', end='2024-03-01', freq='MS')\n",
    "\n",
    "# Generate first dataset\n",
    "first_data = []\n",
    "\n",
    "for client_id in range(1, num_clients + 1):\n",
    "    for loan_id in range(1, loans_per_client + 1):\n",
    "        for month in months_first:\n",
    "            delay = np.random.choice(['yes', 'no'])\n",
    "            first_data.append({\n",
    "                'client_id': client_id,\n",
    "                'loan_id': loan_id,\n",
    "                'delay': delay,\n",
    "                'month': month.strftime('%Y%m')\n",
    "            })\n",
    "\n",
    "first_df = pd.DataFrame(first_data)\n",
    "\n",
    "# Generate second dataset\n",
    "second_data = []\n",
    "\n",
    "for client_id in range(1, num_clients + 1):\n",
    "    for loan_id in range(1, loans_per_client + 1):\n",
    "        for month in months_second:\n",
    "            delay = np.random.choice(['yes', 'no'])\n",
    "            second_data.append({\n",
    "                'client_id': client_id,\n",
    "                'loan_id': loan_id,\n",
    "                'delay': delay,\n",
    "                'month': month.strftime('%Y%m')\n",
    "            })\n",
    "\n",
    "second_df = pd.DataFrame(second_data)\n",
    "\n",
    "# Generate third dataset\n",
    "third_data = []\n",
    "num_clients = 5\n",
    "loans_per_client = 2\n",
    "for client_id in range(1, num_clients + 1):\n",
    "    for loan_id in range(1, loans_per_client + 1):\n",
    "        for month in months_third:\n",
    "            delay = np.random.choice(['yes', 'no'])\n",
    "            third_data.append({\n",
    "                'client_id': client_id,\n",
    "                'loan_id': loan_id,\n",
    "                'delay': delay,\n",
    "                'month': month.strftime('%Y%m')\n",
    "            })\n",
    "\n",
    "third_df = pd.DataFrame(third_data)\n",
    "\n",
    "print(first_df.shape)\n",
    "print(second_df.shape)\n",
    "print(third_df.shape)\n",
    "\n"
   ]
  },
  {
   "cell_type": "code",
   "execution_count": 46,
   "id": "20a16341-0c8e-48a2-9e31-580752235349",
   "metadata": {},
   "outputs": [],
   "source": [
    "## score calculation functions\n",
    "# Calculate scores for the first dataset\n",
    "def calculate_initial_score(df):\n",
    "    df['score'] = df['delay'].apply(lambda x: 3 if x == 'yes' else 0)\n",
    "    client_scores = df.groupby('client_id').agg({\n",
    "        'score': 'sum',\n",
    "        'month': 'max'\n",
    "    }).reset_index()\n",
    "    return client_scores\n",
    "\n",
    "# Update scores with the second dataset\n",
    "def update_additional_month_scores(client_scores, second_dataframe):\n",
    "    second_df['score'] = second_df['delay'].apply(lambda x: 3 if x == 'yes' else 0)\n",
    "    new_scores = second_df.groupby('client_id').agg({\n",
    "        'score': 'sum',\n",
    "        'month': 'max'\n",
    "    }).reset_index()\n",
    "\n",
    "    updated_scores = pd.merge(client_scores, new_scores, on=['client_id', 'score','month'], how='outer')\n",
    "    updated_scores = updated_scores.groupby('client_id').apply(update_latest_scores).reset_index(drop=True)\n",
    "    print(\"new scores for second dataframe\")\n",
    "    print(new_scores)\n",
    "    print(\"merged score dataframe\")\n",
    "    print(updated_scores)\n",
    "    \n",
    "    return updated_scores\n",
    "\n",
    "def update_latest_scores(group):\n",
    "    if len(group) > 1:\n",
    "        # Add the score of the second latest month to the latest month\n",
    "        group.iloc[0, group.columns.get_loc('score')] += group.iloc[1]['score']\n",
    "    return group"
   ]
  },
  {
   "cell_type": "code",
   "execution_count": 47,
   "id": "8c969a06-3beb-46d9-8914-8e250a0e6129",
   "metadata": {},
   "outputs": [
    {
     "name": "stdout",
     "output_type": "stream",
     "text": [
      "new scores for second dataframe\n",
      "   client_id  score   month\n",
      "0          1     33  202312\n",
      "1          2     33  202312\n",
      "2          3     21  202312\n",
      "3          4     15  202312\n",
      "4          5     21  202312\n",
      "merged score dataframe\n",
      "   client_id  score   month\n",
      "0          1     48  202304\n",
      "1          1     33  202312\n",
      "2          2     51  202304\n",
      "3          2     33  202312\n",
      "4          3     30  202304\n",
      "5          3     21  202312\n",
      "6          4     30  202304\n",
      "7          4     15  202312\n",
      "8          5     30  202304\n",
      "9          5     21  202312\n"
     ]
    },
    {
     "name": "stderr",
     "output_type": "stream",
     "text": [
      "C:\\Users\\Ei Nghon Phoo\\AppData\\Local\\Temp\\ipykernel_21704\\2823532659.py:68: DeprecationWarning: DataFrameGroupBy.apply operated on the grouping columns. This behavior is deprecated, and in a future version of pandas the grouping columns will be excluded from the operation. Either pass `include_groups=False` to exclude the groupings or explicitly select the grouping columns after groupby to silence this warning.\n",
      "  updated_scores = updated_scores.groupby('client_id').apply(update_latest_scores).reset_index(drop=True)\n"
     ]
    }
   ],
   "source": [
    "client_initial_scores = calculate_initial_score(first_df)\n",
    "client_scores_update = update_scores(client_initial_scores, second_df)"
   ]
  },
  {
   "cell_type": "code",
   "execution_count": null,
   "id": "ac5cdb82-25aa-4f95-b442-365eb8e73e9d",
   "metadata": {},
   "outputs": [],
   "source": [
    "# Display results\n",
    "print(\"First Dataset:\")\n",
    "print(first_df.head())\n",
    "print(\"\\nClient Scores:\")\n",
    "print(client_initial_scores.head())\n",
    "print(\"\\nSecond Dataset:\")\n",
    "print(second_df.head())\n",
    "print(\"\\nUpdated Client Scores:\")\n",
    "print(client_scores_update.head())"
   ]
  },
  {
   "cell_type": "code",
   "execution_count": 35,
   "id": "6d6a466f-b0ba-4bf5-bb2b-4e02bdf3e221",
   "metadata": {},
   "outputs": [
    {
     "name": "stdout",
     "output_type": "stream",
     "text": [
      "    client_id  loan_id delay   month  score\n",
      "8           2        1    no  202301      0\n",
      "9           2        1    no  202302      0\n",
      "10          2        1    no  202303      0\n",
      "11          2        1   yes  202304      3\n",
      "12          2        2   yes  202301      3\n",
      "13          2        2   yes  202302      3\n",
      "14          2        2   yes  202303      3\n",
      "15          2        2   yes  202304      3\n"
     ]
    }
   ],
   "source": [
    "print(first_df[first_df['client_id'] ==2])"
   ]
  },
  {
   "cell_type": "code",
   "execution_count": 36,
   "id": "73dbd510-e170-4624-b8de-0d61c997f447",
   "metadata": {},
   "outputs": [
    {
     "name": "stdout",
     "output_type": "stream",
     "text": [
      "   client_id  loan_id delay   month  score\n",
      "4          2        1    no  202311      0\n",
      "5          2        1   yes  202312      3\n",
      "6          2        2    no  202311      0\n",
      "7          2        2   yes  202312      3\n"
     ]
    }
   ],
   "source": [
    "print(second_df[second_df['client_id'] ==2])"
   ]
  },
  {
   "cell_type": "code",
   "execution_count": 41,
   "id": "ffe70a3e-cf54-4164-a4cd-8c9430135c7c",
   "metadata": {},
   "outputs": [
    {
     "name": "stdout",
     "output_type": "stream",
     "text": [
      "   client_id  score   month\n",
      "0          1      9  202312\n",
      "1          2      6  202312\n",
      "2          3      9  202312\n",
      "3          4      0  202312\n",
      "4          5      0  202312\n",
      "    client_id  score   month\n",
      "0           1     21  202312\n",
      "1           1     12  202304\n",
      "2           1     21  202312\n",
      "3           2     15  202312\n",
      "4           2      9  202304\n",
      "5           2     15  202312\n",
      "6           3     24  202312\n",
      "7           3     15  202304\n",
      "8           4     12  202312\n",
      "9           4     12  202304\n",
      "10          4     12  202312\n",
      "11          5     12  202312\n",
      "12          5     12  202304\n",
      "13          5     12  202312\n",
      "    client_id  score   month\n",
      "0           1     21  202312\n",
      "1           1     12  202304\n",
      "2           1     21  202312\n",
      "3           2     15  202312\n",
      "4           2      9  202304\n",
      "5           2     15  202312\n",
      "6           3     24  202312\n",
      "7           3     15  202304\n",
      "8           4     12  202312\n",
      "9           4     12  202304\n",
      "10          4     12  202312\n",
      "11          5     12  202312\n",
      "12          5     12  202304\n",
      "13          5     12  202312\n"
     ]
    },
    {
     "name": "stderr",
     "output_type": "stream",
     "text": [
      "C:\\Users\\Ei Nghon Phoo\\AppData\\Local\\Temp\\ipykernel_21704\\3616874777.py:68: DeprecationWarning: DataFrameGroupBy.apply operated on the grouping columns. This behavior is deprecated, and in a future version of pandas the grouping columns will be excluded from the operation. Either pass `include_groups=False` to exclude the groupings or explicitly select the grouping columns after groupby to silence this warning.\n",
      "  updated_scores = updated_scores.groupby('client_id').apply(update_latest_scores).reset_index(drop=True)\n"
     ]
    }
   ],
   "source": [
    "client_scores_update_third_time = update_scores(client_scores_update, third_df)\n",
    "print(client_scores_update_third_time)"
   ]
  },
  {
   "cell_type": "code",
   "execution_count": 37,
   "id": "70e681a3-7a43-4663-ab07-427bc590c75f",
   "metadata": {},
   "outputs": [
    {
     "name": "stdout",
     "output_type": "stream",
     "text": [
      "   client_id  score   month\n",
      "0          1      0  202403\n",
      "1          2      6  202403\n",
      "2          3     12  202403\n",
      "3          4      6  202403\n",
      "4          5      9  202403\n"
     ]
    }
   ],
   "source": [
    "client_scores_test = calculate_score(third_df)\n",
    "print(client_scores_test)"
   ]
  },
  {
   "cell_type": "code",
   "execution_count": 38,
   "id": "cd8115bd-3d0f-420e-969a-849dc8f10502",
   "metadata": {},
   "outputs": [
    {
     "data": {
      "text/html": [
       "<div>\n",
       "<style scoped>\n",
       "    .dataframe tbody tr th:only-of-type {\n",
       "        vertical-align: middle;\n",
       "    }\n",
       "\n",
       "    .dataframe tbody tr th {\n",
       "        vertical-align: top;\n",
       "    }\n",
       "\n",
       "    .dataframe thead th {\n",
       "        text-align: right;\n",
       "    }\n",
       "</style>\n",
       "<table border=\"1\" class=\"dataframe\">\n",
       "  <thead>\n",
       "    <tr style=\"text-align: right;\">\n",
       "      <th></th>\n",
       "      <th>client_id</th>\n",
       "      <th>score</th>\n",
       "      <th>month</th>\n",
       "    </tr>\n",
       "  </thead>\n",
       "  <tbody>\n",
       "    <tr>\n",
       "      <th>0</th>\n",
       "      <td>1</td>\n",
       "      <td>12</td>\n",
       "      <td>202304</td>\n",
       "    </tr>\n",
       "    <tr>\n",
       "      <th>1</th>\n",
       "      <td>1</td>\n",
       "      <td>6</td>\n",
       "      <td>202312</td>\n",
       "    </tr>\n",
       "    <tr>\n",
       "      <th>2</th>\n",
       "      <td>2</td>\n",
       "      <td>21</td>\n",
       "      <td>202312</td>\n",
       "    </tr>\n",
       "    <tr>\n",
       "      <th>3</th>\n",
       "      <td>2</td>\n",
       "      <td>15</td>\n",
       "      <td>202304</td>\n",
       "    </tr>\n",
       "    <tr>\n",
       "      <th>4</th>\n",
       "      <td>3</td>\n",
       "      <td>21</td>\n",
       "      <td>202312</td>\n",
       "    </tr>\n",
       "    <tr>\n",
       "      <th>5</th>\n",
       "      <td>3</td>\n",
       "      <td>15</td>\n",
       "      <td>202304</td>\n",
       "    </tr>\n",
       "    <tr>\n",
       "      <th>6</th>\n",
       "      <td>4</td>\n",
       "      <td>15</td>\n",
       "      <td>202312</td>\n",
       "    </tr>\n",
       "    <tr>\n",
       "      <th>7</th>\n",
       "      <td>4</td>\n",
       "      <td>9</td>\n",
       "      <td>202304</td>\n",
       "    </tr>\n",
       "    <tr>\n",
       "      <th>8</th>\n",
       "      <td>5</td>\n",
       "      <td>15</td>\n",
       "      <td>202312</td>\n",
       "    </tr>\n",
       "    <tr>\n",
       "      <th>9</th>\n",
       "      <td>5</td>\n",
       "      <td>9</td>\n",
       "      <td>202304</td>\n",
       "    </tr>\n",
       "    <tr>\n",
       "      <th>10</th>\n",
       "      <td>6</td>\n",
       "      <td>12</td>\n",
       "      <td>202312</td>\n",
       "    </tr>\n",
       "    <tr>\n",
       "      <th>11</th>\n",
       "      <td>6</td>\n",
       "      <td>9</td>\n",
       "      <td>202304</td>\n",
       "    </tr>\n",
       "    <tr>\n",
       "      <th>12</th>\n",
       "      <td>7</td>\n",
       "      <td>15</td>\n",
       "      <td>202312</td>\n",
       "    </tr>\n",
       "    <tr>\n",
       "      <th>13</th>\n",
       "      <td>7</td>\n",
       "      <td>9</td>\n",
       "      <td>202304</td>\n",
       "    </tr>\n",
       "    <tr>\n",
       "      <th>14</th>\n",
       "      <td>8</td>\n",
       "      <td>21</td>\n",
       "      <td>202312</td>\n",
       "    </tr>\n",
       "    <tr>\n",
       "      <th>15</th>\n",
       "      <td>8</td>\n",
       "      <td>15</td>\n",
       "      <td>202304</td>\n",
       "    </tr>\n",
       "    <tr>\n",
       "      <th>16</th>\n",
       "      <td>9</td>\n",
       "      <td>18</td>\n",
       "      <td>202312</td>\n",
       "    </tr>\n",
       "    <tr>\n",
       "      <th>17</th>\n",
       "      <td>9</td>\n",
       "      <td>18</td>\n",
       "      <td>202304</td>\n",
       "    </tr>\n",
       "    <tr>\n",
       "      <th>18</th>\n",
       "      <td>10</td>\n",
       "      <td>21</td>\n",
       "      <td>202312</td>\n",
       "    </tr>\n",
       "    <tr>\n",
       "      <th>19</th>\n",
       "      <td>10</td>\n",
       "      <td>15</td>\n",
       "      <td>202304</td>\n",
       "    </tr>\n",
       "  </tbody>\n",
       "</table>\n",
       "</div>"
      ],
      "text/plain": [
       "    client_id  score   month\n",
       "0           1     12  202304\n",
       "1           1      6  202312\n",
       "2           2     21  202312\n",
       "3           2     15  202304\n",
       "4           3     21  202312\n",
       "5           3     15  202304\n",
       "6           4     15  202312\n",
       "7           4      9  202304\n",
       "8           5     15  202312\n",
       "9           5      9  202304\n",
       "10          6     12  202312\n",
       "11          6      9  202304\n",
       "12          7     15  202312\n",
       "13          7      9  202304\n",
       "14          8     21  202312\n",
       "15          8     15  202304\n",
       "16          9     18  202312\n",
       "17          9     18  202304\n",
       "18         10     21  202312\n",
       "19         10     15  202304"
      ]
     },
     "execution_count": 38,
     "metadata": {},
     "output_type": "execute_result"
    }
   ],
   "source": [
    "client_scores_update"
   ]
  },
  {
   "cell_type": "code",
   "execution_count": 48,
   "id": "143e2c88-a8ad-4f51-aa02-de3852e85295",
   "metadata": {},
   "outputs": [
    {
     "name": "stdout",
     "output_type": "stream",
     "text": [
      "     Month\n",
      "0   202301\n",
      "1   202302\n",
      "2   202303\n",
      "3   202304\n",
      "4   202305\n",
      "5   202306\n",
      "6   202307\n",
      "7   202308\n",
      "8   202309\n",
      "9   202310\n",
      "10  202311\n",
      "11  202312\n",
      "12  202401\n",
      "13  202402\n",
      "14  202403\n"
     ]
    }
   ],
   "source": [
    "import pandas as pd\n",
    "\n",
    "# Create a date range from January 2023 to March 2024\n",
    "date_range = pd.date_range(start='2023-01-01', end='2024-03-31', freq='MS')\n",
    "\n",
    "# Format the dates to YYYYMM\n",
    "months = date_range.strftime('%Y%m')\n",
    "\n",
    "# Create a DataFrame\n",
    "df = pd.DataFrame(months, columns=['Month'])\n",
    "\n",
    "# Display the DataFrame\n",
    "print(df)\n"
   ]
  },
  {
   "cell_type": "code",
   "execution_count": 49,
   "id": "e621eecd-5c08-4d31-8512-119004c48cb3",
   "metadata": {},
   "outputs": [
    {
     "name": "stdout",
     "output_type": "stream",
     "text": [
      "     Month  Score\n",
      "0   202301     30\n",
      "1   202302     67\n",
      "2   202303     30\n",
      "3   202304     87\n",
      "4   202305     88\n",
      "5   202306     87\n",
      "6   202307     73\n",
      "7   202308     87\n",
      "8   202309    100\n",
      "9   202310     44\n",
      "10  202311     48\n",
      "11  202312     92\n",
      "12  202401     42\n",
      "13  202402     32\n",
      "14  202403     94\n"
     ]
    }
   ],
   "source": [
    "df['Score'] = np.random.randint(0, 101, size=len(df))\n",
    "print(df)"
   ]
  },
  {
   "cell_type": "code",
   "execution_count": 50,
   "id": "edd8b99b-5cee-4c73-9c61-a88db82d4f49",
   "metadata": {},
   "outputs": [
    {
     "name": "stdout",
     "output_type": "stream",
     "text": [
      "\n",
      "Maximum Month:\n",
      "202403\n"
     ]
    }
   ],
   "source": [
    "# Select the maximum month\n",
    "max_month = df['Month'].max()\n",
    "\n",
    "# Display the maximum month\n",
    "print(\"\\nMaximum Month:\")\n",
    "print(max_month)"
   ]
  },
  {
   "cell_type": "code",
   "execution_count": 51,
   "id": "0272c896-2577-48ab-9b36-95ce04dad132",
   "metadata": {},
   "outputs": [
    {
     "ename": "AttributeError",
     "evalue": "'DataFrame' object has no attribute 'append'",
     "output_type": "error",
     "traceback": [
      "\u001b[1;31m---------------------------------------------------------------------------\u001b[0m",
      "\u001b[1;31mAttributeError\u001b[0m                            Traceback (most recent call last)",
      "\u001b[1;32m~\\AppData\\Local\\Temp\\ipykernel_21704\\3238182734.py\u001b[0m in \u001b[0;36m?\u001b[1;34m()\u001b[0m\n\u001b[0;32m     30\u001b[0m         \u001b[0mupdated_score\u001b[0m \u001b[1;33m=\u001b[0m \u001b[0mlatest_month_score\u001b[0m \u001b[1;33m+\u001b[0m \u001b[0mnew_score\u001b[0m\u001b[1;33m\u001b[0m\u001b[1;33m\u001b[0m\u001b[0m\n\u001b[0;32m     31\u001b[0m \u001b[1;33m\u001b[0m\u001b[0m\n\u001b[0;32m     32\u001b[0m         \u001b[1;31m# Create a new row for the updated score\u001b[0m\u001b[1;33m\u001b[0m\u001b[1;33m\u001b[0m\u001b[0m\n\u001b[0;32m     33\u001b[0m         \u001b[0mnew_row\u001b[0m \u001b[1;33m=\u001b[0m \u001b[1;33m{\u001b[0m\u001b[1;34m'client_id'\u001b[0m\u001b[1;33m:\u001b[0m \u001b[0mclient_id\u001b[0m\u001b[1;33m,\u001b[0m \u001b[1;34m'score'\u001b[0m\u001b[1;33m:\u001b[0m \u001b[0mupdated_score\u001b[0m\u001b[1;33m,\u001b[0m \u001b[1;34m'month'\u001b[0m\u001b[1;33m:\u001b[0m \u001b[0mnew_month\u001b[0m\u001b[1;33m}\u001b[0m\u001b[1;33m\u001b[0m\u001b[1;33m\u001b[0m\u001b[0m\n\u001b[1;32m---> 34\u001b[1;33m         \u001b[0mdf1\u001b[0m \u001b[1;33m=\u001b[0m \u001b[0mdf1\u001b[0m\u001b[1;33m.\u001b[0m\u001b[0mappend\u001b[0m\u001b[1;33m(\u001b[0m\u001b[0mnew_row\u001b[0m\u001b[1;33m,\u001b[0m \u001b[0mignore_index\u001b[0m\u001b[1;33m=\u001b[0m\u001b[1;32mTrue\u001b[0m\u001b[1;33m)\u001b[0m\u001b[1;33m\u001b[0m\u001b[1;33m\u001b[0m\u001b[0m\n\u001b[0m\u001b[0;32m     35\u001b[0m \u001b[1;33m\u001b[0m\u001b[0m\n\u001b[0;32m     36\u001b[0m \u001b[1;31m# Step 2: Ensure all clients from df2 are included in df1\u001b[0m\u001b[1;33m\u001b[0m\u001b[1;33m\u001b[0m\u001b[0m\n\u001b[0;32m     37\u001b[0m \u001b[1;32mfor\u001b[0m \u001b[0mindex\u001b[0m\u001b[1;33m,\u001b[0m \u001b[0mrow\u001b[0m \u001b[1;32min\u001b[0m \u001b[0mdf2\u001b[0m\u001b[1;33m.\u001b[0m\u001b[0miterrows\u001b[0m\u001b[1;33m(\u001b[0m\u001b[1;33m)\u001b[0m\u001b[1;33m:\u001b[0m\u001b[1;33m\u001b[0m\u001b[1;33m\u001b[0m\u001b[0m\n",
      "\u001b[1;32mD:\\App_installations\\Anaconda\\Lib\\site-packages\\pandas\\core\\generic.py\u001b[0m in \u001b[0;36m?\u001b[1;34m(self, name)\u001b[0m\n\u001b[0;32m   6295\u001b[0m             \u001b[1;32mand\u001b[0m \u001b[0mname\u001b[0m \u001b[1;32mnot\u001b[0m \u001b[1;32min\u001b[0m \u001b[0mself\u001b[0m\u001b[1;33m.\u001b[0m\u001b[0m_accessors\u001b[0m\u001b[1;33m\u001b[0m\u001b[1;33m\u001b[0m\u001b[0m\n\u001b[0;32m   6296\u001b[0m             \u001b[1;32mand\u001b[0m \u001b[0mself\u001b[0m\u001b[1;33m.\u001b[0m\u001b[0m_info_axis\u001b[0m\u001b[1;33m.\u001b[0m\u001b[0m_can_hold_identifiers_and_holds_name\u001b[0m\u001b[1;33m(\u001b[0m\u001b[0mname\u001b[0m\u001b[1;33m)\u001b[0m\u001b[1;33m\u001b[0m\u001b[1;33m\u001b[0m\u001b[0m\n\u001b[0;32m   6297\u001b[0m         \u001b[1;33m)\u001b[0m\u001b[1;33m:\u001b[0m\u001b[1;33m\u001b[0m\u001b[1;33m\u001b[0m\u001b[0m\n\u001b[0;32m   6298\u001b[0m             \u001b[1;32mreturn\u001b[0m \u001b[0mself\u001b[0m\u001b[1;33m[\u001b[0m\u001b[0mname\u001b[0m\u001b[1;33m]\u001b[0m\u001b[1;33m\u001b[0m\u001b[1;33m\u001b[0m\u001b[0m\n\u001b[1;32m-> 6299\u001b[1;33m         \u001b[1;32mreturn\u001b[0m \u001b[0mobject\u001b[0m\u001b[1;33m.\u001b[0m\u001b[0m__getattribute__\u001b[0m\u001b[1;33m(\u001b[0m\u001b[0mself\u001b[0m\u001b[1;33m,\u001b[0m \u001b[0mname\u001b[0m\u001b[1;33m)\u001b[0m\u001b[1;33m\u001b[0m\u001b[1;33m\u001b[0m\u001b[0m\n\u001b[0m",
      "\u001b[1;31mAttributeError\u001b[0m: 'DataFrame' object has no attribute 'append'"
     ]
    }
   ],
   "source": [
    "import pandas as pd\n",
    "\n",
    "# Create the first DataFrame\n",
    "data1 = {\n",
    "    'client_id': [1, 1, 2],\n",
    "    'score': [66, 51, 31],\n",
    "    'month': [202312, 202310, 202312]\n",
    "}\n",
    "df1 = pd.DataFrame(data1)\n",
    "\n",
    "# Create the second DataFrame\n",
    "data2 = {\n",
    "    'client_id': [1, 2],\n",
    "    'score': [14, 59],\n",
    "    'month': [202410, 202410]\n",
    "}\n",
    "df2 = pd.DataFrame(data2)\n",
    "\n",
    "# Step 1: Update the score for the latest month in df1\n",
    "# Get the latest month score for each client from df2\n",
    "for index, row in df2.iterrows():\n",
    "    client_id = row['client_id']\n",
    "    new_month = row['month']\n",
    "    new_score = row['score']\n",
    "    \n",
    "    # Find the latest month score for the client in df1\n",
    "    if client_id in df1['client_id'].values:\n",
    "        # Update the score for the latest month\n",
    "        latest_month_score = df1.loc[df1['client_id'] == client_id, 'score'].iloc[0]\n",
    "        updated_score = latest_month_score + new_score\n",
    "        \n",
    "        # Create a new row for the updated score\n",
    "        new_row = {'client_id': client_id, 'score': updated_score, 'month': new_month}\n",
    "        df1 = df1.append(new_row, ignore_index=True)\n",
    "\n",
    "# Step 2: Ensure all clients from df2 are included in df1\n",
    "for index, row in df2.iterrows():\n",
    "    client_id = row['client_id']\n",
    "    new_month = row['month']\n",
    "    \n",
    "    if client_id not in df1['client_id'].values:\n",
    "        # If the client is not in df1, add their score and month\n",
    "        new_row = {'client_id': client_id, 'score': row['score'], 'month': new_month}\n",
    "        df1 = df1.append(new_row, ignore_index=True)\n",
    "\n",
    "# Step 3: Sort the DataFrame by client_id and month for better readability\n",
    "df1 = df1.sort_values(by=['client_id', 'month']).reset_index(drop=True)\n",
    "\n",
    "# Display the updated DataFrame\n",
    "print(df1)\n"
   ]
  },
  {
   "cell_type": "code",
   "execution_count": null,
   "id": "dab932d7-d428-471a-90d2-c3e5c622887e",
   "metadata": {},
   "outputs": [],
   "source": []
  }
 ],
 "metadata": {
  "kernelspec": {
   "display_name": "Python 3 (ipykernel)",
   "language": "python",
   "name": "python3"
  },
  "language_info": {
   "codemirror_mode": {
    "name": "ipython",
    "version": 3
   },
   "file_extension": ".py",
   "mimetype": "text/x-python",
   "name": "python",
   "nbconvert_exporter": "python",
   "pygments_lexer": "ipython3",
   "version": "3.12.4"
  }
 },
 "nbformat": 4,
 "nbformat_minor": 5
}
