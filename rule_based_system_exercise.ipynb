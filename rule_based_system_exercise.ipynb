{
 "cells": [
  {
   "cell_type": "code",
   "execution_count": 1,
   "id": "52cce64e-4f94-4c1e-913f-0a556130aa13",
   "metadata": {},
   "outputs": [],
   "source": [
    "import pandas as pd\n",
    "import numpy as np\n",
    "import networkx as nx\n",
    "import matplotlib.pyplot as plt\n",
    "import seaborn as sns"
   ]
  },
  {
   "cell_type": "code",
   "execution_count": 2,
   "id": "c55df081-69ed-48b4-b8f0-d6ee811db8fc",
   "metadata": {},
   "outputs": [],
   "source": [
    "# Generate sample data for 100 entries\n",
    "np.random.seed(42)  # For reproducibility\n",
    "\n",
    "# Generate IDs (20 unique clients, each with 5 months of data)\n",
    "ids = np.repeat(np.arange(1, 21), 5)\n",
    "\n",
    "# Generate months\n",
    "months = pd.date_range(start='2023-01', periods=5, freq='ME').strftime('%Y-%m').tolist() * 20\n",
    "\n",
    "# Generate locations\n",
    "locations = np.random.choice(['urban', 'suburban', 'rural'], size=100)\n",
    "\n",
    "# Generate active status\n",
    "active_statuses = np.random.choice(['active', 'inactive'], size=100)\n",
    "\n",
    "# Generate MFIs\n",
    "mfis = np.random.choice(['MFI_A', 'MFI_B', 'MFI_C'], size=100)\n"
   ]
  },
  {
   "cell_type": "code",
   "execution_count": 3,
   "id": "75030f66-9fdd-4f45-bdd2-8c40cccdb8ec",
   "metadata": {},
   "outputs": [
    {
     "name": "stdout",
     "output_type": "stream",
     "text": [
      "    id  credit_score   score_calculation\n",
      "0    1            21  (3*10)+(0*5)-(3*3)\n",
      "1    2             4  (1*10)+(0*5)-(2*3)\n",
      "2    3            27  (3*10)+(0*5)-(1*3)\n",
      "3    4            17  (2*10)+(0*5)-(1*3)\n",
      "4    5             4  (1*10)+(0*5)-(2*3)\n",
      "5    6             7  (1*10)+(0*5)-(1*3)\n",
      "6    7            21  (3*10)+(0*5)-(3*3)\n",
      "7    8            31  (4*10)+(0*5)-(3*3)\n",
      "8    9            21  (3*10)+(0*5)-(3*3)\n",
      "9   10            24  (3*10)+(0*5)-(2*3)\n",
      "10  11            14  (2*10)+(0*5)-(2*3)\n",
      "11  12            31  (4*10)+(0*5)-(3*3)\n",
      "12  13             7  (1*10)+(0*5)-(1*3)\n",
      "13  14            14  (2*10)+(0*5)-(2*3)\n",
      "14  15            29  (4*10)+(1*5)-(2*3)\n",
      "15  16            11  (2*10)+(0*5)-(3*3)\n",
      "16  17            14  (2*10)+(0*5)-(2*3)\n",
      "17  18            14  (2*10)+(0*5)-(2*3)\n",
      "18  19            17  (2*10)+(0*5)-(1*3)\n",
      "19  20            17  (2*10)+(0*5)-(1*3)\n"
     ]
    },
    {
     "name": "stderr",
     "output_type": "stream",
     "text": [
      "C:\\Users\\Ei Nghon Phoo\\AppData\\Local\\Temp\\ipykernel_11524\\3585585632.py:50: DeprecationWarning: DataFrameGroupBy.apply operated on the grouping columns. This behavior is deprecated, and in a future version of pandas the grouping columns will be excluded from the operation. Either pass `include_groups=False` to exclude the groupings or explicitly select the grouping columns after groupby to silence this warning.\n",
      "  df_grouped = df.groupby('id').apply(calculate_credit_score).reset_index()\n"
     ]
    }
   ],
   "source": [
    "\n",
    "# Assuming these weights and penalties are defined\n",
    "active_status_weight = 10\n",
    "location_change_penalty = 5\n",
    "mfi_penalty = 3\n",
    "\n",
    "# Calculate credit score function\n",
    "def calculate_credit_score(group):\n",
    "    score = 0\n",
    "    active_months = group['active_status'].sum()\n",
    "    \n",
    "    # Rule: The longer the active status, the better.\n",
    "    active_status_score = active_months * active_status_weight\n",
    "    score += active_status_score\n",
    "    \n",
    "    # Rule: Location changes in one MFI more than 2 times in a year.\n",
    "    location_change_penalty_score = 0\n",
    "    for mfi, mfi_group in group.groupby('MFI'):\n",
    "        location_changes = (mfi_group['location'] != mfi_group['location'].shift()).sum() - 1\n",
    "        if location_changes > 2:\n",
    "            location_change_penalty_score += location_change_penalty\n",
    "    \n",
    "    score -= location_change_penalty_score\n",
    "    \n",
    "    # Rule: Borrowing from multiple MFIs\n",
    "    mfi_penalty_score = 0\n",
    "    mfi_counts = group['MFI'].nunique()\n",
    "    if mfi_counts > 1:\n",
    "        mfi_penalty_score += (mfi_counts - 1) * mfi_penalty\n",
    "    \n",
    "    score -= mfi_penalty_score\n",
    "    \n",
    "    # Creating the score calculation detail string\n",
    "    calculation_detail = f\"({active_months}*{active_status_weight})+({0 if location_change_penalty_score == 0 else location_change_penalty_score // location_change_penalty}*{location_change_penalty})-({0 if mfi_penalty_score == 0 else (mfi_penalty_score // mfi_penalty)}*{mfi_penalty})\"\n",
    "    \n",
    "    return pd.Series({'credit_score': score, 'score_calculation': calculation_detail})\n",
    "\n",
    "# Example DataFrame\n",
    "np.random.seed(42)\n",
    "data_size = 100\n",
    "\n",
    "df = pd.DataFrame({\n",
    "    'id': np.random.randint(1, 21, data_size),\n",
    "    'month': np.random.randint(1, 13, data_size),\n",
    "    'active_status': np.random.choice([True, False], data_size),\n",
    "    'location': np.random.choice(['Location1', 'Location2', 'Location3', 'Location4'], data_size),\n",
    "    'MFI': np.random.choice(['MFI1', 'MFI2', 'MFI3', 'MFI4'], data_size)\n",
    "})\n",
    "\n",
    "# Group by 'id' and apply the calculate_credit_score function\n",
    "df_grouped = df.groupby('id').apply(calculate_credit_score).reset_index()\n",
    "\n",
    "print(df_grouped)\n"
   ]
  },
  {
   "cell_type": "code",
   "execution_count": null,
   "id": "ed81265e-3a8d-44a9-ad06-8e31e6e826d3",
   "metadata": {},
   "outputs": [],
   "source": []
  }
 ],
 "metadata": {
  "kernelspec": {
   "display_name": "Python 3 (ipykernel)",
   "language": "python",
   "name": "python3"
  },
  "language_info": {
   "codemirror_mode": {
    "name": "ipython",
    "version": 3
   },
   "file_extension": ".py",
   "mimetype": "text/x-python",
   "name": "python",
   "nbconvert_exporter": "python",
   "pygments_lexer": "ipython3",
   "version": "3.12.4"
  }
 },
 "nbformat": 4,
 "nbformat_minor": 5
}
